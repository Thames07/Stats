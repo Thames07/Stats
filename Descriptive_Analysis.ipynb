{
  "nbformat": 4,
  "nbformat_minor": 0,
  "metadata": {
    "colab": {
      "provenance": [],
      "mount_file_id": "1v-fMH2iznnw-Qsmye7rfCChMeCOFB_Z0",
      "authorship_tag": "ABX9TyMwgEuAQ1E4GmAc677qxwgE",
      "include_colab_link": true
    },
    "kernelspec": {
      "name": "python3",
      "display_name": "Python 3"
    },
    "language_info": {
      "name": "python"
    }
  },
  "cells": [
    {
      "cell_type": "markdown",
      "metadata": {
        "id": "view-in-github",
        "colab_type": "text"
      },
      "source": [
        "<a href=\"https://colab.research.google.com/github/Thames07/Stats/blob/main/Descriptive_Analysis.ipynb\" target=\"_parent\"><img src=\"https://colab.research.google.com/assets/colab-badge.svg\" alt=\"Open In Colab\"/></a>"
      ]
    },
    {
      "cell_type": "markdown",
      "source": [
        "#### Descriptive Statistics with Python Project\n",
        "Descriptive Statistics is the subject matter of this project. Descriptive statistics gives us the basic summary measures about the dataset. The summary measures include measures of central tendency (mean, median and mode) and measures of variability (variance, standard deviation, minimum/maximum values, IQR (Interquartile Range), skewness and kurtosis). I have used the fortune 500 dataset from the data world website for this project.\n",
        "\n",
        "Table of Contents\n",
        "\n",
        "Introduction to descriptive statistics\n",
        "\n",
        "Measures of central tendency\n",
        "\n",
        "Mean\n",
        "\n",
        "Median\n",
        "\n",
        "Mode\n",
        "\n",
        "Measures of dispersion\n",
        "\n",
        "Variance\n",
        "\n",
        "Standard deviation\n",
        "\n",
        "Coefficient of variation\n",
        "\n",
        "IQR (Interquartile range)\n",
        "\n",
        "Skewness\n",
        "\n",
        "Kurtosis\n",
        "\n",
        "Dataset description\n",
        "\n",
        "Import libraries\n",
        "\n",
        "Import dataset\n",
        "\n",
        "Exploratory data analysis\n",
        "\n",
        "Descriptive statistics with describe() function\n",
        "\n",
        "Summary statistics of numerical columns\n",
        "\n",
        "Summary statistics of character columns\n",
        "\n",
        "Summary statistics of all the columns\n",
        "\n",
        "Computation of measures of central tendency\n",
        "\n",
        "Mean\n",
        "\n",
        "Median\n",
        "\n",
        "Mode\n",
        "\n",
        "Computation of measures of dispersion or variability\n",
        "\n",
        "Minimum and maximum values\n",
        "\n",
        "Range\n",
        "\n",
        "Variance\n",
        "\n",
        "Standard deviation\n",
        "\n",
        "Median\n",
        "\n",
        "Interquartile Range\n",
        "\n",
        "Computation of measures of shape of distribution\n",
        "\n",
        "Skewness\n",
        "\n",
        "Kurtosis\n",
        "\n",
        "Results and conclusion\n",
        "\n",
        "#### 1. Introduction to descriptive statistics\n",
        "Descriptive statistics are numbers that are used to describe and summarize the data. They are used to describe the basic features of the data under consideration. They provide simple summary measures which give an overview of the dataset. Summary measures that are commonly used to describe a data set are measures of central tendency and measures of variability or dispersion.\n",
        "\n",
        "Measures of central tendency include the mean, median and mode. These measures summarize a given data set by providing a single data point. These measures describe the center position of a distribution for a data set. We analyze the frequency of each data point in the distribution and describes it using the mean, median or mode. They provide the average of a data set. They can be either a representation of entire population or a sample of the population.\n",
        "\n",
        "Measures of variability or dispersion include the variance or standard deviation, coefficient of variation, minimum and maximum values, IQR (Interquartile Range), skewness andkurtosis`. These measures help us to analyze how spread-out the distribution is for a dataset. So, they provide the shape of the data set.\n",
        "\n",
        "#### 2. Measures of central tendency\n",
        "Central tendency means a central value which describe a probability distribution. It may also be called a center or location of the distribution. The most common measures of central tendency are mean, median and mode. The most common measure of central tendency is the mean. For skewed distribution or when there is concern about outliers, the median may be preferred. So, median is more robust measure than the mean.\n",
        "\n",
        "Mean\n",
        "The most common measure of central tendency is the mean.\n",
        "Mean is also known as the simple average.\n",
        "It is denoted by greek letter µ for population and by ¯x for sample.\n",
        "We can find mean of a number of elements by adding all the elements in a dataset and then dividing by the number of elements in the dataset.\n",
        "It is the most common measure of central tendency but it has a drawback.\n",
        "The mean is affected by the presence of outliers.\n",
        "So, mean alone is not enough for making business decisions.\n",
        "Median\n",
        "Median is the number which divides the dataset into two equal halves.\n",
        "To calculate the median, we have to arrange our dataset of n numbers in ascending order.\n",
        "The median of this dataset is the number at (n+1)/2 th position, if n is odd.\n",
        "If n is even, then the median is the average of the (n/2)th number and (n+2)/2 th number.\n",
        "Median is robust to outliers.\n",
        "So, for skewed distribution or when there is concern about outliers, the median may be preferred.\n",
        "Mode\n",
        "Mode of a dataset is the value that occurs most often in the dataset.\n",
        "Mode is the value that has the highest frequency of occurrence in the dataset.\n",
        "There is no best measure that give us the complete picture. So, these measures of central tendency (mean, median and mode) should be used together to represent the full picture.\n",
        "\n",
        "#### 3. Measures of dispersion or variability\n",
        "Dispersion is an indicator of how far away from the center, we can find the data values. The most common measures of dispersion are variance, standard deviation and interquartile range (IQR). Variance is the standard measure of spread. The standard deviation is the square root of the variance. The variance and standard deviation are two useful measures of spread.\n",
        "\n",
        "#### Variance\n",
        "Variance measures the dispersion of a set of data points around their mean value.\n",
        "It is the mean of the squares of the individual deviations.\n",
        "Variance gives results in the original units squared.\n",
        "Standard deviation\n",
        "Standard deviation is the most common used measure of variability.\n",
        "It is the square-root of the variance.\n",
        "For Normally distributed data, approximately 95% of the values lie within 2 s.d. of the mean.\n",
        "Standard deviation gives results in the original units.\n",
        "Coefficient of Variation (CV)\n",
        "Coefficient of Variation (CV) is equal to the standard deviation divided by the mean.\n",
        "It is also known as relative standard deviation.\n",
        "IQR (Interquartile range)\n",
        "A third measure of spread is the interquartile range (IQR).\n",
        "The IQR is calculated using the boundaries of data situated between the 1st and the 3rd quartiles.\n",
        "The interquartile range (IQR) can be calculated as follows:- IQR = Q3 – Q1\n",
        "In the same way that the median is more robust than the mean, the IQR is a more robust measure of spread than variance and standard deviation and should therefore be preferred for small or asymmetrical distributions.\n",
        "It is a robust measure of spread.\n",
        "Measures of shape\n",
        "Now, we will take a look at measures of shape of distribution. There are two statistical measures that can tell us about the shape of the distribution. These measures are skewness and kurtosis. These measures can be used to convey information about the shape of the distribution of the dataset.\n",
        "\n",
        "#### Skewness\n",
        "\n",
        "Skewness is a measure of a distribution's symmetry or more precisely lack of symmetry.\n",
        "It is used to mean the absence of symmetry from the mean of the dataset.\n",
        "It is a characteristic of the deviation from the mean.\n",
        "It is used to indicate the shape of the distribution of data.\n",
        "Negative skewness\n",
        "Negative values for skewness indicate negative skewness.\n",
        "In this case, the data are skewed or tail to left.\n",
        "By skewed left, we mean that the left tail is long relative to the right tail.\n",
        "The data values may extend further to the left but concentrated in the right.\n",
        "So, there is a long tail and distortion is caused by extremely small values which pull the mean downward so that it is less than the median.\n",
        "Hence, in this case we have Mean < Median < Mode\n",
        "#### Zero skewness\n",
        "\n",
        "Zero skewness means skewness value of zero.\n",
        "It means the dataset is symmetrical.\n",
        "A data set is symmetrical if it looks the same to the left and right to the center point.\n",
        "The dataset looks bell shaped or symmetrical.\n",
        "A perfectly symmetrical data set will have a skewness of zero.\n",
        "So, the normal distribution which is perfectly symmetrical has a skewness of 0.\n",
        "So, in this case, we have Mean = Median = Mode\n",
        "Positive skewness\n",
        "Positive values for skewness indicate positive skewness.\n",
        "The dataset are skewed or tail to right.\n",
        "By skewed right, we mean that the right tail is long relative to the left tail.\n",
        "The data values are concentrated in the right.\n",
        "So, there is a long tail to the right that is caused by extremely large values which pull the mean upward so that it is greater than the median.\n",
        "So, we have Mean > Median > Mode\n",
        "Reference range on skewness values\n",
        "The rule of thumb for skewness values are:\n",
        "\n",
        "If the skewness is between -0.5 and 0.5, the data are fairly symmetrical.\n",
        "If the skewness is between -1 and – 0.5 or between 0.5 and 1, the data are moderately skewed.\n",
        "If the skewness is less than -1 or greater than 1, the data are highly skewed.\n",
        "Kurtosis\n",
        "Kurtosis is the degree of peakedness of a distribution.\n",
        "Data sets with high kurtosis tend to have a distinct peak near the mean, decline rather rapidly and have heavy tails.\n",
        "Data sets with low kurtosis tend to have a flat top near the mean rather than a sharp peak.\n",
        "Reference range for kurtosis\n",
        "The reference standard is a normal distribution, which has a kurtosis of 3.\n",
        "Often, excess kurtosis is presented instead of kurtosis, where excess kurtosis is simply kurtosis - 3.\n",
        "\n",
        "#### Mesokurtic curve\n",
        "A normal distribution has kurtosis exactly 3 (excess kurtosis exactly 0).\n",
        "Any distribution with kurtosis ≈3 (excess ≈ 0) is called mesokurtic.\n",
        "Platykurtic curve\n",
        "A distribution with kurtosis < 3 (excess kurtosis < 0) is called platykurtic.\n",
        "As compared to a normal distribution, its central peak is lower and broader, and its tails are shorter and thinner.\n",
        "Leptokurtic curve\n",
        "A distribution with kurtosis > 3 (excess kurtosis > 0) is called leptokurtic.\n",
        "As compared to a normal distribution, its central peak is higher and sharper, and its tails are longer and fatter.\n",
        "Summary\n",
        "So far, we have looked at the measures of central tendency of the data which include mean, median and mode. Also, we have taken a look at measures of spread of the data which consists of variance, standard deviation, interquartile range (IQR), minimum and maximum values. We have also discussed skewness and kurtosis as measures of shape. These quantities can only be used for quantitative variables not for categorical variables.\n",
        "\n",
        "#### 4. Dataset description\n",
        "I have used the fortune 500 dataset for this project. I have downloaded this dataset from the data world website. This data set can be downloaded from the following url –\n",
        "\n",
        "https://data.world/alexandra/fortune-500\n",
        "\n",
        "The data set consists of revenue and profit figures of fortune 500 companies along with their rank."
      ],
      "metadata": {
        "id": "9-kovSWcFuXz"
      }
    },
    {
      "cell_type": "markdown",
      "source": [
        "#### 5. Import libraries"
      ],
      "metadata": {
        "id": "FzwvkgQzG5Ng"
      }
    },
    {
      "cell_type": "code",
      "execution_count": 1,
      "metadata": {
        "id": "7UDuA5mFFIXl"
      },
      "outputs": [],
      "source": [
        "import pandas as pd\n",
        "import numpy as np\n",
        "import matplotlib.pyplot as plt\n",
        "import seaborn as sns\n",
        "%matplotlib inline"
      ]
    },
    {
      "cell_type": "markdown",
      "source": [
        "#### 6. Import dataset"
      ],
      "metadata": {
        "id": "MJYItTZwHOsl"
      }
    },
    {
      "cell_type": "code",
      "source": [
        "df = pd.read_csv(\"/content/drive/MyDrive/Financial_Data11052022.csv\")\n",
        "df"
      ],
      "metadata": {
        "colab": {
          "base_uri": "https://localhost:8080/",
          "height": 488
        },
        "id": "aAGULTPxHQ8B",
        "outputId": "175bcbbb-4ee6-43c9-d823-a0ef6a83eba8"
      },
      "execution_count": 4,
      "outputs": [
        {
          "output_type": "execute_result",
          "data": {
            "text/plain": [
              "             ID  OpeBal  RediscBills  SlFacility  SdFacility  Repo  RevRepo  \\\n",
              "2679  212442.10     0.0          0.0    39200.00         0.0   0.0      0.0   \n",
              "2678  280943.94     0.0          0.0    17100.00         0.0   0.0      0.0   \n",
              "2677  139340.64     0.0          0.0    26130.00         0.0   0.0      0.0   \n",
              "2676  532451.82     0.0      14000.0    51650.00         0.0   0.0  50000.0   \n",
              "2675  570306.65     0.0          0.0    21000.00         0.0   0.0      0.0   \n",
              "...         ...     ...          ...         ...         ...   ...      ...   \n",
              "5      69622.14     0.0      55770.0     9500.00         0.0   0.0      0.0   \n",
              "4      50140.00     0.0       5700.0    15000.00         0.0   0.0      0.0   \n",
              "3      84649.12     0.0       4700.0    10000.00         0.0   0.0      0.0   \n",
              "2     135176.44     0.0      47889.9    46224.00         0.0   0.0      0.0   \n",
              "1      69012.74     0.0       8500.0    74876.58         0.0   0.0      0.0   \n",
              "\n",
              "      OmoSales  OmoRepay  PmSales  PmRepay      Crr  NetWdas  StatAlloc  \\\n",
              "2679      0.00       0.0      0.0      0.0      0.0      0.0        0.0   \n",
              "2678  38076.92       0.0      0.0      0.0      0.0      0.0        0.0   \n",
              "2677      0.00       0.0      0.0      0.0      0.0      0.0        0.0   \n",
              "2676      0.00       0.0      0.0      0.0      0.0      0.0        0.0   \n",
              "2675      0.00       0.0      0.0      0.0      0.0      0.0        0.0   \n",
              "...        ...       ...      ...      ...      ...      ...        ...   \n",
              "5         0.00       0.0      0.0      0.0  30020.0      0.0        0.0   \n",
              "4         0.00       0.0      0.0      0.0      0.0      0.0        0.0   \n",
              "3         0.00       0.0  55000.0      0.0  30226.0      0.0        0.0   \n",
              "2         0.00       0.0      0.0      0.0      0.0      0.0        0.0   \n",
              "1     12111.87       0.0      0.0      0.0      0.0      0.0        0.0   \n",
              "\n",
              "      JvCash  NetClr  NdicPrem     OMajor  RecDate  \n",
              "2679       0       0       0.0  5/11/2022      NaN  \n",
              "2678       0       0       0.0  5/10/2022      NaN  \n",
              "2677       0       0       0.0   5/9/2022      NaN  \n",
              "2676       0       0       0.0   5/6/2022      NaN  \n",
              "2675       0       0       0.0   5/5/2022      NaN  \n",
              "...      ...     ...       ...        ...      ...  \n",
              "5          0       0       0.0  11/9/2009      NaN  \n",
              "4          0       0       0.0  11/6/2009      NaN  \n",
              "3          0       0       0.0  11/4/2009      NaN  \n",
              "2          0       0       0.0  11/3/2009      NaN  \n",
              "1          0       0       0.0  11/2/2009      NaN  \n",
              "\n",
              "[2631 rows x 19 columns]"
            ],
            "text/html": [
              "\n",
              "  <div id=\"df-6ae2126d-8b25-4afa-9df0-2d984afc2d32\">\n",
              "    <div class=\"colab-df-container\">\n",
              "      <div>\n",
              "<style scoped>\n",
              "    .dataframe tbody tr th:only-of-type {\n",
              "        vertical-align: middle;\n",
              "    }\n",
              "\n",
              "    .dataframe tbody tr th {\n",
              "        vertical-align: top;\n",
              "    }\n",
              "\n",
              "    .dataframe thead th {\n",
              "        text-align: right;\n",
              "    }\n",
              "</style>\n",
              "<table border=\"1\" class=\"dataframe\">\n",
              "  <thead>\n",
              "    <tr style=\"text-align: right;\">\n",
              "      <th></th>\n",
              "      <th>ID</th>\n",
              "      <th>OpeBal</th>\n",
              "      <th>RediscBills</th>\n",
              "      <th>SlFacility</th>\n",
              "      <th>SdFacility</th>\n",
              "      <th>Repo</th>\n",
              "      <th>RevRepo</th>\n",
              "      <th>OmoSales</th>\n",
              "      <th>OmoRepay</th>\n",
              "      <th>PmSales</th>\n",
              "      <th>PmRepay</th>\n",
              "      <th>Crr</th>\n",
              "      <th>NetWdas</th>\n",
              "      <th>StatAlloc</th>\n",
              "      <th>JvCash</th>\n",
              "      <th>NetClr</th>\n",
              "      <th>NdicPrem</th>\n",
              "      <th>OMajor</th>\n",
              "      <th>RecDate</th>\n",
              "    </tr>\n",
              "  </thead>\n",
              "  <tbody>\n",
              "    <tr>\n",
              "      <th>2679</th>\n",
              "      <td>212442.10</td>\n",
              "      <td>0.0</td>\n",
              "      <td>0.0</td>\n",
              "      <td>39200.00</td>\n",
              "      <td>0.0</td>\n",
              "      <td>0.0</td>\n",
              "      <td>0.0</td>\n",
              "      <td>0.00</td>\n",
              "      <td>0.0</td>\n",
              "      <td>0.0</td>\n",
              "      <td>0.0</td>\n",
              "      <td>0.0</td>\n",
              "      <td>0.0</td>\n",
              "      <td>0.0</td>\n",
              "      <td>0</td>\n",
              "      <td>0</td>\n",
              "      <td>0.0</td>\n",
              "      <td>5/11/2022</td>\n",
              "      <td>NaN</td>\n",
              "    </tr>\n",
              "    <tr>\n",
              "      <th>2678</th>\n",
              "      <td>280943.94</td>\n",
              "      <td>0.0</td>\n",
              "      <td>0.0</td>\n",
              "      <td>17100.00</td>\n",
              "      <td>0.0</td>\n",
              "      <td>0.0</td>\n",
              "      <td>0.0</td>\n",
              "      <td>38076.92</td>\n",
              "      <td>0.0</td>\n",
              "      <td>0.0</td>\n",
              "      <td>0.0</td>\n",
              "      <td>0.0</td>\n",
              "      <td>0.0</td>\n",
              "      <td>0.0</td>\n",
              "      <td>0</td>\n",
              "      <td>0</td>\n",
              "      <td>0.0</td>\n",
              "      <td>5/10/2022</td>\n",
              "      <td>NaN</td>\n",
              "    </tr>\n",
              "    <tr>\n",
              "      <th>2677</th>\n",
              "      <td>139340.64</td>\n",
              "      <td>0.0</td>\n",
              "      <td>0.0</td>\n",
              "      <td>26130.00</td>\n",
              "      <td>0.0</td>\n",
              "      <td>0.0</td>\n",
              "      <td>0.0</td>\n",
              "      <td>0.00</td>\n",
              "      <td>0.0</td>\n",
              "      <td>0.0</td>\n",
              "      <td>0.0</td>\n",
              "      <td>0.0</td>\n",
              "      <td>0.0</td>\n",
              "      <td>0.0</td>\n",
              "      <td>0</td>\n",
              "      <td>0</td>\n",
              "      <td>0.0</td>\n",
              "      <td>5/9/2022</td>\n",
              "      <td>NaN</td>\n",
              "    </tr>\n",
              "    <tr>\n",
              "      <th>2676</th>\n",
              "      <td>532451.82</td>\n",
              "      <td>0.0</td>\n",
              "      <td>14000.0</td>\n",
              "      <td>51650.00</td>\n",
              "      <td>0.0</td>\n",
              "      <td>0.0</td>\n",
              "      <td>50000.0</td>\n",
              "      <td>0.00</td>\n",
              "      <td>0.0</td>\n",
              "      <td>0.0</td>\n",
              "      <td>0.0</td>\n",
              "      <td>0.0</td>\n",
              "      <td>0.0</td>\n",
              "      <td>0.0</td>\n",
              "      <td>0</td>\n",
              "      <td>0</td>\n",
              "      <td>0.0</td>\n",
              "      <td>5/6/2022</td>\n",
              "      <td>NaN</td>\n",
              "    </tr>\n",
              "    <tr>\n",
              "      <th>2675</th>\n",
              "      <td>570306.65</td>\n",
              "      <td>0.0</td>\n",
              "      <td>0.0</td>\n",
              "      <td>21000.00</td>\n",
              "      <td>0.0</td>\n",
              "      <td>0.0</td>\n",
              "      <td>0.0</td>\n",
              "      <td>0.00</td>\n",
              "      <td>0.0</td>\n",
              "      <td>0.0</td>\n",
              "      <td>0.0</td>\n",
              "      <td>0.0</td>\n",
              "      <td>0.0</td>\n",
              "      <td>0.0</td>\n",
              "      <td>0</td>\n",
              "      <td>0</td>\n",
              "      <td>0.0</td>\n",
              "      <td>5/5/2022</td>\n",
              "      <td>NaN</td>\n",
              "    </tr>\n",
              "    <tr>\n",
              "      <th>...</th>\n",
              "      <td>...</td>\n",
              "      <td>...</td>\n",
              "      <td>...</td>\n",
              "      <td>...</td>\n",
              "      <td>...</td>\n",
              "      <td>...</td>\n",
              "      <td>...</td>\n",
              "      <td>...</td>\n",
              "      <td>...</td>\n",
              "      <td>...</td>\n",
              "      <td>...</td>\n",
              "      <td>...</td>\n",
              "      <td>...</td>\n",
              "      <td>...</td>\n",
              "      <td>...</td>\n",
              "      <td>...</td>\n",
              "      <td>...</td>\n",
              "      <td>...</td>\n",
              "      <td>...</td>\n",
              "    </tr>\n",
              "    <tr>\n",
              "      <th>5</th>\n",
              "      <td>69622.14</td>\n",
              "      <td>0.0</td>\n",
              "      <td>55770.0</td>\n",
              "      <td>9500.00</td>\n",
              "      <td>0.0</td>\n",
              "      <td>0.0</td>\n",
              "      <td>0.0</td>\n",
              "      <td>0.00</td>\n",
              "      <td>0.0</td>\n",
              "      <td>0.0</td>\n",
              "      <td>0.0</td>\n",
              "      <td>30020.0</td>\n",
              "      <td>0.0</td>\n",
              "      <td>0.0</td>\n",
              "      <td>0</td>\n",
              "      <td>0</td>\n",
              "      <td>0.0</td>\n",
              "      <td>11/9/2009</td>\n",
              "      <td>NaN</td>\n",
              "    </tr>\n",
              "    <tr>\n",
              "      <th>4</th>\n",
              "      <td>50140.00</td>\n",
              "      <td>0.0</td>\n",
              "      <td>5700.0</td>\n",
              "      <td>15000.00</td>\n",
              "      <td>0.0</td>\n",
              "      <td>0.0</td>\n",
              "      <td>0.0</td>\n",
              "      <td>0.00</td>\n",
              "      <td>0.0</td>\n",
              "      <td>0.0</td>\n",
              "      <td>0.0</td>\n",
              "      <td>0.0</td>\n",
              "      <td>0.0</td>\n",
              "      <td>0.0</td>\n",
              "      <td>0</td>\n",
              "      <td>0</td>\n",
              "      <td>0.0</td>\n",
              "      <td>11/6/2009</td>\n",
              "      <td>NaN</td>\n",
              "    </tr>\n",
              "    <tr>\n",
              "      <th>3</th>\n",
              "      <td>84649.12</td>\n",
              "      <td>0.0</td>\n",
              "      <td>4700.0</td>\n",
              "      <td>10000.00</td>\n",
              "      <td>0.0</td>\n",
              "      <td>0.0</td>\n",
              "      <td>0.0</td>\n",
              "      <td>0.00</td>\n",
              "      <td>0.0</td>\n",
              "      <td>55000.0</td>\n",
              "      <td>0.0</td>\n",
              "      <td>30226.0</td>\n",
              "      <td>0.0</td>\n",
              "      <td>0.0</td>\n",
              "      <td>0</td>\n",
              "      <td>0</td>\n",
              "      <td>0.0</td>\n",
              "      <td>11/4/2009</td>\n",
              "      <td>NaN</td>\n",
              "    </tr>\n",
              "    <tr>\n",
              "      <th>2</th>\n",
              "      <td>135176.44</td>\n",
              "      <td>0.0</td>\n",
              "      <td>47889.9</td>\n",
              "      <td>46224.00</td>\n",
              "      <td>0.0</td>\n",
              "      <td>0.0</td>\n",
              "      <td>0.0</td>\n",
              "      <td>0.00</td>\n",
              "      <td>0.0</td>\n",
              "      <td>0.0</td>\n",
              "      <td>0.0</td>\n",
              "      <td>0.0</td>\n",
              "      <td>0.0</td>\n",
              "      <td>0.0</td>\n",
              "      <td>0</td>\n",
              "      <td>0</td>\n",
              "      <td>0.0</td>\n",
              "      <td>11/3/2009</td>\n",
              "      <td>NaN</td>\n",
              "    </tr>\n",
              "    <tr>\n",
              "      <th>1</th>\n",
              "      <td>69012.74</td>\n",
              "      <td>0.0</td>\n",
              "      <td>8500.0</td>\n",
              "      <td>74876.58</td>\n",
              "      <td>0.0</td>\n",
              "      <td>0.0</td>\n",
              "      <td>0.0</td>\n",
              "      <td>12111.87</td>\n",
              "      <td>0.0</td>\n",
              "      <td>0.0</td>\n",
              "      <td>0.0</td>\n",
              "      <td>0.0</td>\n",
              "      <td>0.0</td>\n",
              "      <td>0.0</td>\n",
              "      <td>0</td>\n",
              "      <td>0</td>\n",
              "      <td>0.0</td>\n",
              "      <td>11/2/2009</td>\n",
              "      <td>NaN</td>\n",
              "    </tr>\n",
              "  </tbody>\n",
              "</table>\n",
              "<p>2631 rows × 19 columns</p>\n",
              "</div>\n",
              "      <button class=\"colab-df-convert\" onclick=\"convertToInteractive('df-6ae2126d-8b25-4afa-9df0-2d984afc2d32')\"\n",
              "              title=\"Convert this dataframe to an interactive table.\"\n",
              "              style=\"display:none;\">\n",
              "        \n",
              "  <svg xmlns=\"http://www.w3.org/2000/svg\" height=\"24px\"viewBox=\"0 0 24 24\"\n",
              "       width=\"24px\">\n",
              "    <path d=\"M0 0h24v24H0V0z\" fill=\"none\"/>\n",
              "    <path d=\"M18.56 5.44l.94 2.06.94-2.06 2.06-.94-2.06-.94-.94-2.06-.94 2.06-2.06.94zm-11 1L8.5 8.5l.94-2.06 2.06-.94-2.06-.94L8.5 2.5l-.94 2.06-2.06.94zm10 10l.94 2.06.94-2.06 2.06-.94-2.06-.94-.94-2.06-.94 2.06-2.06.94z\"/><path d=\"M17.41 7.96l-1.37-1.37c-.4-.4-.92-.59-1.43-.59-.52 0-1.04.2-1.43.59L10.3 9.45l-7.72 7.72c-.78.78-.78 2.05 0 2.83L4 21.41c.39.39.9.59 1.41.59.51 0 1.02-.2 1.41-.59l7.78-7.78 2.81-2.81c.8-.78.8-2.07 0-2.86zM5.41 20L4 18.59l7.72-7.72 1.47 1.35L5.41 20z\"/>\n",
              "  </svg>\n",
              "      </button>\n",
              "      \n",
              "  <style>\n",
              "    .colab-df-container {\n",
              "      display:flex;\n",
              "      flex-wrap:wrap;\n",
              "      gap: 12px;\n",
              "    }\n",
              "\n",
              "    .colab-df-convert {\n",
              "      background-color: #E8F0FE;\n",
              "      border: none;\n",
              "      border-radius: 50%;\n",
              "      cursor: pointer;\n",
              "      display: none;\n",
              "      fill: #1967D2;\n",
              "      height: 32px;\n",
              "      padding: 0 0 0 0;\n",
              "      width: 32px;\n",
              "    }\n",
              "\n",
              "    .colab-df-convert:hover {\n",
              "      background-color: #E2EBFA;\n",
              "      box-shadow: 0px 1px 2px rgba(60, 64, 67, 0.3), 0px 1px 3px 1px rgba(60, 64, 67, 0.15);\n",
              "      fill: #174EA6;\n",
              "    }\n",
              "\n",
              "    [theme=dark] .colab-df-convert {\n",
              "      background-color: #3B4455;\n",
              "      fill: #D2E3FC;\n",
              "    }\n",
              "\n",
              "    [theme=dark] .colab-df-convert:hover {\n",
              "      background-color: #434B5C;\n",
              "      box-shadow: 0px 1px 3px 1px rgba(0, 0, 0, 0.15);\n",
              "      filter: drop-shadow(0px 1px 2px rgba(0, 0, 0, 0.3));\n",
              "      fill: #FFFFFF;\n",
              "    }\n",
              "  </style>\n",
              "\n",
              "      <script>\n",
              "        const buttonEl =\n",
              "          document.querySelector('#df-6ae2126d-8b25-4afa-9df0-2d984afc2d32 button.colab-df-convert');\n",
              "        buttonEl.style.display =\n",
              "          google.colab.kernel.accessAllowed ? 'block' : 'none';\n",
              "\n",
              "        async function convertToInteractive(key) {\n",
              "          const element = document.querySelector('#df-6ae2126d-8b25-4afa-9df0-2d984afc2d32');\n",
              "          const dataTable =\n",
              "            await google.colab.kernel.invokeFunction('convertToInteractive',\n",
              "                                                     [key], {});\n",
              "          if (!dataTable) return;\n",
              "\n",
              "          const docLinkHtml = 'Like what you see? Visit the ' +\n",
              "            '<a target=\"_blank\" href=https://colab.research.google.com/notebooks/data_table.ipynb>data table notebook</a>'\n",
              "            + ' to learn more about interactive tables.';\n",
              "          element.innerHTML = '';\n",
              "          dataTable['output_type'] = 'display_data';\n",
              "          await google.colab.output.renderOutput(dataTable, element);\n",
              "          const docLink = document.createElement('div');\n",
              "          docLink.innerHTML = docLinkHtml;\n",
              "          element.appendChild(docLink);\n",
              "        }\n",
              "      </script>\n",
              "    </div>\n",
              "  </div>\n",
              "  "
            ]
          },
          "metadata": {},
          "execution_count": 4
        }
      ]
    },
    {
      "cell_type": "markdown",
      "source": [
        "#### 7. Exploratory data analysis\n",
        "Now, I will explore the data to gain insights about the data.\n",
        "\n",
        "View dimensions of dataset"
      ],
      "metadata": {
        "id": "0XirS-sgH_sn"
      }
    },
    {
      "cell_type": "code",
      "source": [
        "df.shape"
      ],
      "metadata": {
        "colab": {
          "base_uri": "https://localhost:8080/"
        },
        "id": "psgJMZa4IDA_",
        "outputId": "ae8dc18b-2ac6-4c90-a26a-707fce9c529d"
      },
      "execution_count": 6,
      "outputs": [
        {
          "output_type": "execute_result",
          "data": {
            "text/plain": [
              "(2631, 19)"
            ]
          },
          "metadata": {},
          "execution_count": 6
        }
      ]
    },
    {
      "cell_type": "markdown",
      "source": [
        "We can see that there are 2631 instances and 19 variables in the data set."
      ],
      "metadata": {
        "id": "U4Z0878nIOEA"
      }
    },
    {
      "cell_type": "markdown",
      "source": [
        "Preview the dataset"
      ],
      "metadata": {
        "id": "vmzHRxrQIZut"
      }
    },
    {
      "cell_type": "code",
      "source": [
        "df.head()"
      ],
      "metadata": {
        "colab": {
          "base_uri": "https://localhost:8080/",
          "height": 270
        },
        "id": "1W1R5mGgIUit",
        "outputId": "da271f37-9783-43e0-836a-a8b01773d30c"
      },
      "execution_count": 7,
      "outputs": [
        {
          "output_type": "execute_result",
          "data": {
            "text/plain": [
              "             ID  OpeBal  RediscBills  SlFacility  SdFacility  Repo  RevRepo  \\\n",
              "2679  212442.10     0.0          0.0     39200.0         0.0   0.0      0.0   \n",
              "2678  280943.94     0.0          0.0     17100.0         0.0   0.0      0.0   \n",
              "2677  139340.64     0.0          0.0     26130.0         0.0   0.0      0.0   \n",
              "2676  532451.82     0.0      14000.0     51650.0         0.0   0.0  50000.0   \n",
              "2675  570306.65     0.0          0.0     21000.0         0.0   0.0      0.0   \n",
              "\n",
              "      OmoSales  OmoRepay  PmSales  PmRepay  Crr  NetWdas  StatAlloc  JvCash  \\\n",
              "2679      0.00       0.0      0.0      0.0  0.0      0.0        0.0       0   \n",
              "2678  38076.92       0.0      0.0      0.0  0.0      0.0        0.0       0   \n",
              "2677      0.00       0.0      0.0      0.0  0.0      0.0        0.0       0   \n",
              "2676      0.00       0.0      0.0      0.0  0.0      0.0        0.0       0   \n",
              "2675      0.00       0.0      0.0      0.0  0.0      0.0        0.0       0   \n",
              "\n",
              "      NetClr  NdicPrem     OMajor  RecDate  \n",
              "2679       0       0.0  5/11/2022      NaN  \n",
              "2678       0       0.0  5/10/2022      NaN  \n",
              "2677       0       0.0   5/9/2022      NaN  \n",
              "2676       0       0.0   5/6/2022      NaN  \n",
              "2675       0       0.0   5/5/2022      NaN  "
            ],
            "text/html": [
              "\n",
              "  <div id=\"df-ffc4d886-c36a-4211-b06e-c01b31f48374\">\n",
              "    <div class=\"colab-df-container\">\n",
              "      <div>\n",
              "<style scoped>\n",
              "    .dataframe tbody tr th:only-of-type {\n",
              "        vertical-align: middle;\n",
              "    }\n",
              "\n",
              "    .dataframe tbody tr th {\n",
              "        vertical-align: top;\n",
              "    }\n",
              "\n",
              "    .dataframe thead th {\n",
              "        text-align: right;\n",
              "    }\n",
              "</style>\n",
              "<table border=\"1\" class=\"dataframe\">\n",
              "  <thead>\n",
              "    <tr style=\"text-align: right;\">\n",
              "      <th></th>\n",
              "      <th>ID</th>\n",
              "      <th>OpeBal</th>\n",
              "      <th>RediscBills</th>\n",
              "      <th>SlFacility</th>\n",
              "      <th>SdFacility</th>\n",
              "      <th>Repo</th>\n",
              "      <th>RevRepo</th>\n",
              "      <th>OmoSales</th>\n",
              "      <th>OmoRepay</th>\n",
              "      <th>PmSales</th>\n",
              "      <th>PmRepay</th>\n",
              "      <th>Crr</th>\n",
              "      <th>NetWdas</th>\n",
              "      <th>StatAlloc</th>\n",
              "      <th>JvCash</th>\n",
              "      <th>NetClr</th>\n",
              "      <th>NdicPrem</th>\n",
              "      <th>OMajor</th>\n",
              "      <th>RecDate</th>\n",
              "    </tr>\n",
              "  </thead>\n",
              "  <tbody>\n",
              "    <tr>\n",
              "      <th>2679</th>\n",
              "      <td>212442.10</td>\n",
              "      <td>0.0</td>\n",
              "      <td>0.0</td>\n",
              "      <td>39200.0</td>\n",
              "      <td>0.0</td>\n",
              "      <td>0.0</td>\n",
              "      <td>0.0</td>\n",
              "      <td>0.00</td>\n",
              "      <td>0.0</td>\n",
              "      <td>0.0</td>\n",
              "      <td>0.0</td>\n",
              "      <td>0.0</td>\n",
              "      <td>0.0</td>\n",
              "      <td>0.0</td>\n",
              "      <td>0</td>\n",
              "      <td>0</td>\n",
              "      <td>0.0</td>\n",
              "      <td>5/11/2022</td>\n",
              "      <td>NaN</td>\n",
              "    </tr>\n",
              "    <tr>\n",
              "      <th>2678</th>\n",
              "      <td>280943.94</td>\n",
              "      <td>0.0</td>\n",
              "      <td>0.0</td>\n",
              "      <td>17100.0</td>\n",
              "      <td>0.0</td>\n",
              "      <td>0.0</td>\n",
              "      <td>0.0</td>\n",
              "      <td>38076.92</td>\n",
              "      <td>0.0</td>\n",
              "      <td>0.0</td>\n",
              "      <td>0.0</td>\n",
              "      <td>0.0</td>\n",
              "      <td>0.0</td>\n",
              "      <td>0.0</td>\n",
              "      <td>0</td>\n",
              "      <td>0</td>\n",
              "      <td>0.0</td>\n",
              "      <td>5/10/2022</td>\n",
              "      <td>NaN</td>\n",
              "    </tr>\n",
              "    <tr>\n",
              "      <th>2677</th>\n",
              "      <td>139340.64</td>\n",
              "      <td>0.0</td>\n",
              "      <td>0.0</td>\n",
              "      <td>26130.0</td>\n",
              "      <td>0.0</td>\n",
              "      <td>0.0</td>\n",
              "      <td>0.0</td>\n",
              "      <td>0.00</td>\n",
              "      <td>0.0</td>\n",
              "      <td>0.0</td>\n",
              "      <td>0.0</td>\n",
              "      <td>0.0</td>\n",
              "      <td>0.0</td>\n",
              "      <td>0.0</td>\n",
              "      <td>0</td>\n",
              "      <td>0</td>\n",
              "      <td>0.0</td>\n",
              "      <td>5/9/2022</td>\n",
              "      <td>NaN</td>\n",
              "    </tr>\n",
              "    <tr>\n",
              "      <th>2676</th>\n",
              "      <td>532451.82</td>\n",
              "      <td>0.0</td>\n",
              "      <td>14000.0</td>\n",
              "      <td>51650.0</td>\n",
              "      <td>0.0</td>\n",
              "      <td>0.0</td>\n",
              "      <td>50000.0</td>\n",
              "      <td>0.00</td>\n",
              "      <td>0.0</td>\n",
              "      <td>0.0</td>\n",
              "      <td>0.0</td>\n",
              "      <td>0.0</td>\n",
              "      <td>0.0</td>\n",
              "      <td>0.0</td>\n",
              "      <td>0</td>\n",
              "      <td>0</td>\n",
              "      <td>0.0</td>\n",
              "      <td>5/6/2022</td>\n",
              "      <td>NaN</td>\n",
              "    </tr>\n",
              "    <tr>\n",
              "      <th>2675</th>\n",
              "      <td>570306.65</td>\n",
              "      <td>0.0</td>\n",
              "      <td>0.0</td>\n",
              "      <td>21000.0</td>\n",
              "      <td>0.0</td>\n",
              "      <td>0.0</td>\n",
              "      <td>0.0</td>\n",
              "      <td>0.00</td>\n",
              "      <td>0.0</td>\n",
              "      <td>0.0</td>\n",
              "      <td>0.0</td>\n",
              "      <td>0.0</td>\n",
              "      <td>0.0</td>\n",
              "      <td>0.0</td>\n",
              "      <td>0</td>\n",
              "      <td>0</td>\n",
              "      <td>0.0</td>\n",
              "      <td>5/5/2022</td>\n",
              "      <td>NaN</td>\n",
              "    </tr>\n",
              "  </tbody>\n",
              "</table>\n",
              "</div>\n",
              "      <button class=\"colab-df-convert\" onclick=\"convertToInteractive('df-ffc4d886-c36a-4211-b06e-c01b31f48374')\"\n",
              "              title=\"Convert this dataframe to an interactive table.\"\n",
              "              style=\"display:none;\">\n",
              "        \n",
              "  <svg xmlns=\"http://www.w3.org/2000/svg\" height=\"24px\"viewBox=\"0 0 24 24\"\n",
              "       width=\"24px\">\n",
              "    <path d=\"M0 0h24v24H0V0z\" fill=\"none\"/>\n",
              "    <path d=\"M18.56 5.44l.94 2.06.94-2.06 2.06-.94-2.06-.94-.94-2.06-.94 2.06-2.06.94zm-11 1L8.5 8.5l.94-2.06 2.06-.94-2.06-.94L8.5 2.5l-.94 2.06-2.06.94zm10 10l.94 2.06.94-2.06 2.06-.94-2.06-.94-.94-2.06-.94 2.06-2.06.94z\"/><path d=\"M17.41 7.96l-1.37-1.37c-.4-.4-.92-.59-1.43-.59-.52 0-1.04.2-1.43.59L10.3 9.45l-7.72 7.72c-.78.78-.78 2.05 0 2.83L4 21.41c.39.39.9.59 1.41.59.51 0 1.02-.2 1.41-.59l7.78-7.78 2.81-2.81c.8-.78.8-2.07 0-2.86zM5.41 20L4 18.59l7.72-7.72 1.47 1.35L5.41 20z\"/>\n",
              "  </svg>\n",
              "      </button>\n",
              "      \n",
              "  <style>\n",
              "    .colab-df-container {\n",
              "      display:flex;\n",
              "      flex-wrap:wrap;\n",
              "      gap: 12px;\n",
              "    }\n",
              "\n",
              "    .colab-df-convert {\n",
              "      background-color: #E8F0FE;\n",
              "      border: none;\n",
              "      border-radius: 50%;\n",
              "      cursor: pointer;\n",
              "      display: none;\n",
              "      fill: #1967D2;\n",
              "      height: 32px;\n",
              "      padding: 0 0 0 0;\n",
              "      width: 32px;\n",
              "    }\n",
              "\n",
              "    .colab-df-convert:hover {\n",
              "      background-color: #E2EBFA;\n",
              "      box-shadow: 0px 1px 2px rgba(60, 64, 67, 0.3), 0px 1px 3px 1px rgba(60, 64, 67, 0.15);\n",
              "      fill: #174EA6;\n",
              "    }\n",
              "\n",
              "    [theme=dark] .colab-df-convert {\n",
              "      background-color: #3B4455;\n",
              "      fill: #D2E3FC;\n",
              "    }\n",
              "\n",
              "    [theme=dark] .colab-df-convert:hover {\n",
              "      background-color: #434B5C;\n",
              "      box-shadow: 0px 1px 3px 1px rgba(0, 0, 0, 0.15);\n",
              "      filter: drop-shadow(0px 1px 2px rgba(0, 0, 0, 0.3));\n",
              "      fill: #FFFFFF;\n",
              "    }\n",
              "  </style>\n",
              "\n",
              "      <script>\n",
              "        const buttonEl =\n",
              "          document.querySelector('#df-ffc4d886-c36a-4211-b06e-c01b31f48374 button.colab-df-convert');\n",
              "        buttonEl.style.display =\n",
              "          google.colab.kernel.accessAllowed ? 'block' : 'none';\n",
              "\n",
              "        async function convertToInteractive(key) {\n",
              "          const element = document.querySelector('#df-ffc4d886-c36a-4211-b06e-c01b31f48374');\n",
              "          const dataTable =\n",
              "            await google.colab.kernel.invokeFunction('convertToInteractive',\n",
              "                                                     [key], {});\n",
              "          if (!dataTable) return;\n",
              "\n",
              "          const docLinkHtml = 'Like what you see? Visit the ' +\n",
              "            '<a target=\"_blank\" href=https://colab.research.google.com/notebooks/data_table.ipynb>data table notebook</a>'\n",
              "            + ' to learn more about interactive tables.';\n",
              "          element.innerHTML = '';\n",
              "          dataTable['output_type'] = 'display_data';\n",
              "          await google.colab.output.renderOutput(dataTable, element);\n",
              "          const docLink = document.createElement('div');\n",
              "          docLink.innerHTML = docLinkHtml;\n",
              "          element.appendChild(docLink);\n",
              "        }\n",
              "      </script>\n",
              "    </div>\n",
              "  </div>\n",
              "  "
            ]
          },
          "metadata": {},
          "execution_count": 7
        }
      ]
    },
    {
      "cell_type": "markdown",
      "source": [
        "View summary of dataset"
      ],
      "metadata": {
        "id": "XU-p5xiTInIX"
      }
    },
    {
      "cell_type": "code",
      "source": [
        "df.info()"
      ],
      "metadata": {
        "colab": {
          "base_uri": "https://localhost:8080/"
        },
        "id": "HWUX6kSkIpR3",
        "outputId": "5c6688a9-4e8e-414c-c2f2-aac97962cf5a"
      },
      "execution_count": 8,
      "outputs": [
        {
          "output_type": "stream",
          "name": "stdout",
          "text": [
            "<class 'pandas.core.frame.DataFrame'>\n",
            "Int64Index: 2631 entries, 2679 to 1\n",
            "Data columns (total 19 columns):\n",
            " #   Column       Non-Null Count  Dtype  \n",
            "---  ------       --------------  -----  \n",
            " 0   ID           2631 non-null   float64\n",
            " 1   OpeBal       2631 non-null   float64\n",
            " 2   RediscBills  2631 non-null   float64\n",
            " 3   SlFacility   2631 non-null   float64\n",
            " 4   SdFacility   2631 non-null   float64\n",
            " 5   Repo         2631 non-null   float64\n",
            " 6   RevRepo      2631 non-null   float64\n",
            " 7   OmoSales     2631 non-null   float64\n",
            " 8   OmoRepay     2631 non-null   float64\n",
            " 9   PmSales      2631 non-null   float64\n",
            " 10  PmRepay      2631 non-null   float64\n",
            " 11  Crr          2631 non-null   float64\n",
            " 12  NetWdas      2631 non-null   float64\n",
            " 13  StatAlloc    2631 non-null   float64\n",
            " 14  JvCash       2631 non-null   int64  \n",
            " 15  NetClr       2631 non-null   int64  \n",
            " 16  NdicPrem     2631 non-null   float64\n",
            " 17  OMajor       2631 non-null   object \n",
            " 18  RecDate      0 non-null      float64\n",
            "dtypes: float64(16), int64(2), object(1)\n",
            "memory usage: 411.1+ KB\n"
          ]
        }
      ]
    },
    {
      "cell_type": "markdown",
      "source": [
        "Observations\n",
        "We can see that the NetClr and JvCASH variables have integer data types as expected. The Omajor variable is of object data type.\n",
        "\n",
        "The CRR variable is of float data type.\n",
        "\n",
        "The OMAJOR variable is of object data type."
      ],
      "metadata": {
        "id": "q_6FfPyhI-JU"
      }
    },
    {
      "cell_type": "markdown",
      "source": [
        "Check for missing values"
      ],
      "metadata": {
        "id": "ruR-tmDpJfWu"
      }
    },
    {
      "cell_type": "code",
      "source": [
        "df.isnull().sum()"
      ],
      "metadata": {
        "colab": {
          "base_uri": "https://localhost:8080/"
        },
        "id": "HefWNEtjJcBq",
        "outputId": "e0f75486-c44d-498a-d165-a25c90413bae"
      },
      "execution_count": 9,
      "outputs": [
        {
          "output_type": "execute_result",
          "data": {
            "text/plain": [
              "ID                0\n",
              "OpeBal            0\n",
              "RediscBills       0\n",
              "SlFacility        0\n",
              "SdFacility        0\n",
              "Repo              0\n",
              "RevRepo           0\n",
              "OmoSales          0\n",
              "OmoRepay          0\n",
              "PmSales           0\n",
              "PmRepay           0\n",
              "Crr               0\n",
              "NetWdas           0\n",
              "StatAlloc         0\n",
              "JvCash            0\n",
              "NetClr            0\n",
              "NdicPrem          0\n",
              "OMajor            0\n",
              "RecDate        2631\n",
              "dtype: int64"
            ]
          },
          "metadata": {},
          "execution_count": 9
        }
      ]
    },
    {
      "cell_type": "markdown",
      "source": [
        "The above command shows that there are no missing values in the dataset."
      ],
      "metadata": {
        "id": "zUUroNzLJyCm"
      }
    },
    {
      "cell_type": "markdown",
      "source": [
        "8. Descriptive statistics with describe() function\n",
        "Descriptive or summary statistics in python – pandas, can be obtained by using the describe() function. The describe() function gives us the count, mean, standard deviation(std), minimum, Q1(25%), median(50%), Q3(75%), IQR(Q3 - Q1) and maximum values.\n",
        "\n",
        "I will demonstrate the usage of describe() function as follows.\n",
        "\n",
        "Summary statistics of numerical columns"
      ],
      "metadata": {
        "id": "68V1hlxbKP22"
      }
    },
    {
      "cell_type": "code",
      "source": [
        "df.describe()"
      ],
      "metadata": {
        "colab": {
          "base_uri": "https://localhost:8080/",
          "height": 364
        },
        "id": "jMOQcStPJ0kQ",
        "outputId": "0d470133-8b89-4087-b6b1-cc6d94134a5d"
      },
      "execution_count": 10,
      "outputs": [
        {
          "output_type": "execute_result",
          "data": {
            "text/plain": [
              "                 ID         OpeBal    RediscBills    SlFacility  \\\n",
              "count  2.631000e+03    2631.000000    2631.000000  2.631000e+03   \n",
              "mean   2.185551e+05     157.329358   71421.335308  9.530615e+04   \n",
              "std    1.860278e+05    3439.031192   97054.736216  2.998967e+05   \n",
              "min   -1.744919e+04       0.000000       0.000000  0.000000e+00   \n",
              "25%    9.088045e+04       0.000000    3461.995000  1.500000e+04   \n",
              "50%    1.569083e+05       0.000000   30273.660000  4.140000e+04   \n",
              "75%    2.835219e+05       0.000000  105547.500000  1.202850e+05   \n",
              "max    1.404600e+06  127618.470000  955275.400000  1.409700e+07   \n",
              "\n",
              "          SdFacility           Repo       RevRepo       OmoSales  \\\n",
              "count    2631.000000    2631.000000  2.631000e+03    2631.000000   \n",
              "mean     8909.151824    1409.823044  2.907369e+04   28961.379648   \n",
              "std     30210.118791   10819.917265  7.912196e+04   89166.588688   \n",
              "min         0.000000       0.000000 -7.500000e+02       0.000000   \n",
              "25%         0.000000       0.000000  0.000000e+00       0.000000   \n",
              "50%         0.000000       0.000000  0.000000e+00       0.000000   \n",
              "75%       105.600000       0.000000  1.065085e+03       0.000000   \n",
              "max    441067.000000  280600.000000  1.075849e+06  927745.160000   \n",
              "\n",
              "            OmoRepay        PmSales        PmRepay           Crr  \\\n",
              "count    2631.000000    2631.000000    2631.000000   2631.000000   \n",
              "mean    16166.387000   13387.133846     251.464971    748.577218   \n",
              "std     47910.317708   48767.521680    7230.316795   5787.155404   \n",
              "min         0.000000       0.000000  -74478.990000      0.000000   \n",
              "25%         0.000000       0.000000       0.000000      0.000000   \n",
              "50%         0.000000       0.000000       0.000000      0.000000   \n",
              "75%         0.000000       0.000000       0.000000      0.000000   \n",
              "max    325800.000000  807933.790000  242751.130000  89612.600000   \n",
              "\n",
              "             NetWdas    StatAlloc  JvCash        NetClr       NdicPrem  \\\n",
              "count    2631.000000   2631.00000  2631.0   2631.000000    2631.000000   \n",
              "mean     3859.790506    170.83629     0.0     18.057773     532.761752   \n",
              "std     31854.680137   3223.98800     0.0    926.242291    8600.253553   \n",
              "min         0.000000      0.00000     0.0      0.000000       0.000000   \n",
              "25%         0.000000      0.00000     0.0      0.000000       0.000000   \n",
              "50%         0.000000      0.00000     0.0      0.000000       0.000000   \n",
              "75%         0.000000      0.00000     0.0      0.000000       0.000000   \n",
              "max    376418.660000  83091.20000     0.0  47510.000000  336204.660000   \n",
              "\n",
              "       RecDate  \n",
              "count      0.0  \n",
              "mean       NaN  \n",
              "std        NaN  \n",
              "min        NaN  \n",
              "25%        NaN  \n",
              "50%        NaN  \n",
              "75%        NaN  \n",
              "max        NaN  "
            ],
            "text/html": [
              "\n",
              "  <div id=\"df-1edcd1ac-c0a4-4ceb-a553-2cabb62f6800\">\n",
              "    <div class=\"colab-df-container\">\n",
              "      <div>\n",
              "<style scoped>\n",
              "    .dataframe tbody tr th:only-of-type {\n",
              "        vertical-align: middle;\n",
              "    }\n",
              "\n",
              "    .dataframe tbody tr th {\n",
              "        vertical-align: top;\n",
              "    }\n",
              "\n",
              "    .dataframe thead th {\n",
              "        text-align: right;\n",
              "    }\n",
              "</style>\n",
              "<table border=\"1\" class=\"dataframe\">\n",
              "  <thead>\n",
              "    <tr style=\"text-align: right;\">\n",
              "      <th></th>\n",
              "      <th>ID</th>\n",
              "      <th>OpeBal</th>\n",
              "      <th>RediscBills</th>\n",
              "      <th>SlFacility</th>\n",
              "      <th>SdFacility</th>\n",
              "      <th>Repo</th>\n",
              "      <th>RevRepo</th>\n",
              "      <th>OmoSales</th>\n",
              "      <th>OmoRepay</th>\n",
              "      <th>PmSales</th>\n",
              "      <th>PmRepay</th>\n",
              "      <th>Crr</th>\n",
              "      <th>NetWdas</th>\n",
              "      <th>StatAlloc</th>\n",
              "      <th>JvCash</th>\n",
              "      <th>NetClr</th>\n",
              "      <th>NdicPrem</th>\n",
              "      <th>RecDate</th>\n",
              "    </tr>\n",
              "  </thead>\n",
              "  <tbody>\n",
              "    <tr>\n",
              "      <th>count</th>\n",
              "      <td>2.631000e+03</td>\n",
              "      <td>2631.000000</td>\n",
              "      <td>2631.000000</td>\n",
              "      <td>2.631000e+03</td>\n",
              "      <td>2631.000000</td>\n",
              "      <td>2631.000000</td>\n",
              "      <td>2.631000e+03</td>\n",
              "      <td>2631.000000</td>\n",
              "      <td>2631.000000</td>\n",
              "      <td>2631.000000</td>\n",
              "      <td>2631.000000</td>\n",
              "      <td>2631.000000</td>\n",
              "      <td>2631.000000</td>\n",
              "      <td>2631.00000</td>\n",
              "      <td>2631.0</td>\n",
              "      <td>2631.000000</td>\n",
              "      <td>2631.000000</td>\n",
              "      <td>0.0</td>\n",
              "    </tr>\n",
              "    <tr>\n",
              "      <th>mean</th>\n",
              "      <td>2.185551e+05</td>\n",
              "      <td>157.329358</td>\n",
              "      <td>71421.335308</td>\n",
              "      <td>9.530615e+04</td>\n",
              "      <td>8909.151824</td>\n",
              "      <td>1409.823044</td>\n",
              "      <td>2.907369e+04</td>\n",
              "      <td>28961.379648</td>\n",
              "      <td>16166.387000</td>\n",
              "      <td>13387.133846</td>\n",
              "      <td>251.464971</td>\n",
              "      <td>748.577218</td>\n",
              "      <td>3859.790506</td>\n",
              "      <td>170.83629</td>\n",
              "      <td>0.0</td>\n",
              "      <td>18.057773</td>\n",
              "      <td>532.761752</td>\n",
              "      <td>NaN</td>\n",
              "    </tr>\n",
              "    <tr>\n",
              "      <th>std</th>\n",
              "      <td>1.860278e+05</td>\n",
              "      <td>3439.031192</td>\n",
              "      <td>97054.736216</td>\n",
              "      <td>2.998967e+05</td>\n",
              "      <td>30210.118791</td>\n",
              "      <td>10819.917265</td>\n",
              "      <td>7.912196e+04</td>\n",
              "      <td>89166.588688</td>\n",
              "      <td>47910.317708</td>\n",
              "      <td>48767.521680</td>\n",
              "      <td>7230.316795</td>\n",
              "      <td>5787.155404</td>\n",
              "      <td>31854.680137</td>\n",
              "      <td>3223.98800</td>\n",
              "      <td>0.0</td>\n",
              "      <td>926.242291</td>\n",
              "      <td>8600.253553</td>\n",
              "      <td>NaN</td>\n",
              "    </tr>\n",
              "    <tr>\n",
              "      <th>min</th>\n",
              "      <td>-1.744919e+04</td>\n",
              "      <td>0.000000</td>\n",
              "      <td>0.000000</td>\n",
              "      <td>0.000000e+00</td>\n",
              "      <td>0.000000</td>\n",
              "      <td>0.000000</td>\n",
              "      <td>-7.500000e+02</td>\n",
              "      <td>0.000000</td>\n",
              "      <td>0.000000</td>\n",
              "      <td>0.000000</td>\n",
              "      <td>-74478.990000</td>\n",
              "      <td>0.000000</td>\n",
              "      <td>0.000000</td>\n",
              "      <td>0.00000</td>\n",
              "      <td>0.0</td>\n",
              "      <td>0.000000</td>\n",
              "      <td>0.000000</td>\n",
              "      <td>NaN</td>\n",
              "    </tr>\n",
              "    <tr>\n",
              "      <th>25%</th>\n",
              "      <td>9.088045e+04</td>\n",
              "      <td>0.000000</td>\n",
              "      <td>3461.995000</td>\n",
              "      <td>1.500000e+04</td>\n",
              "      <td>0.000000</td>\n",
              "      <td>0.000000</td>\n",
              "      <td>0.000000e+00</td>\n",
              "      <td>0.000000</td>\n",
              "      <td>0.000000</td>\n",
              "      <td>0.000000</td>\n",
              "      <td>0.000000</td>\n",
              "      <td>0.000000</td>\n",
              "      <td>0.000000</td>\n",
              "      <td>0.00000</td>\n",
              "      <td>0.0</td>\n",
              "      <td>0.000000</td>\n",
              "      <td>0.000000</td>\n",
              "      <td>NaN</td>\n",
              "    </tr>\n",
              "    <tr>\n",
              "      <th>50%</th>\n",
              "      <td>1.569083e+05</td>\n",
              "      <td>0.000000</td>\n",
              "      <td>30273.660000</td>\n",
              "      <td>4.140000e+04</td>\n",
              "      <td>0.000000</td>\n",
              "      <td>0.000000</td>\n",
              "      <td>0.000000e+00</td>\n",
              "      <td>0.000000</td>\n",
              "      <td>0.000000</td>\n",
              "      <td>0.000000</td>\n",
              "      <td>0.000000</td>\n",
              "      <td>0.000000</td>\n",
              "      <td>0.000000</td>\n",
              "      <td>0.00000</td>\n",
              "      <td>0.0</td>\n",
              "      <td>0.000000</td>\n",
              "      <td>0.000000</td>\n",
              "      <td>NaN</td>\n",
              "    </tr>\n",
              "    <tr>\n",
              "      <th>75%</th>\n",
              "      <td>2.835219e+05</td>\n",
              "      <td>0.000000</td>\n",
              "      <td>105547.500000</td>\n",
              "      <td>1.202850e+05</td>\n",
              "      <td>105.600000</td>\n",
              "      <td>0.000000</td>\n",
              "      <td>1.065085e+03</td>\n",
              "      <td>0.000000</td>\n",
              "      <td>0.000000</td>\n",
              "      <td>0.000000</td>\n",
              "      <td>0.000000</td>\n",
              "      <td>0.000000</td>\n",
              "      <td>0.000000</td>\n",
              "      <td>0.00000</td>\n",
              "      <td>0.0</td>\n",
              "      <td>0.000000</td>\n",
              "      <td>0.000000</td>\n",
              "      <td>NaN</td>\n",
              "    </tr>\n",
              "    <tr>\n",
              "      <th>max</th>\n",
              "      <td>1.404600e+06</td>\n",
              "      <td>127618.470000</td>\n",
              "      <td>955275.400000</td>\n",
              "      <td>1.409700e+07</td>\n",
              "      <td>441067.000000</td>\n",
              "      <td>280600.000000</td>\n",
              "      <td>1.075849e+06</td>\n",
              "      <td>927745.160000</td>\n",
              "      <td>325800.000000</td>\n",
              "      <td>807933.790000</td>\n",
              "      <td>242751.130000</td>\n",
              "      <td>89612.600000</td>\n",
              "      <td>376418.660000</td>\n",
              "      <td>83091.20000</td>\n",
              "      <td>0.0</td>\n",
              "      <td>47510.000000</td>\n",
              "      <td>336204.660000</td>\n",
              "      <td>NaN</td>\n",
              "    </tr>\n",
              "  </tbody>\n",
              "</table>\n",
              "</div>\n",
              "      <button class=\"colab-df-convert\" onclick=\"convertToInteractive('df-1edcd1ac-c0a4-4ceb-a553-2cabb62f6800')\"\n",
              "              title=\"Convert this dataframe to an interactive table.\"\n",
              "              style=\"display:none;\">\n",
              "        \n",
              "  <svg xmlns=\"http://www.w3.org/2000/svg\" height=\"24px\"viewBox=\"0 0 24 24\"\n",
              "       width=\"24px\">\n",
              "    <path d=\"M0 0h24v24H0V0z\" fill=\"none\"/>\n",
              "    <path d=\"M18.56 5.44l.94 2.06.94-2.06 2.06-.94-2.06-.94-.94-2.06-.94 2.06-2.06.94zm-11 1L8.5 8.5l.94-2.06 2.06-.94-2.06-.94L8.5 2.5l-.94 2.06-2.06.94zm10 10l.94 2.06.94-2.06 2.06-.94-2.06-.94-.94-2.06-.94 2.06-2.06.94z\"/><path d=\"M17.41 7.96l-1.37-1.37c-.4-.4-.92-.59-1.43-.59-.52 0-1.04.2-1.43.59L10.3 9.45l-7.72 7.72c-.78.78-.78 2.05 0 2.83L4 21.41c.39.39.9.59 1.41.59.51 0 1.02-.2 1.41-.59l7.78-7.78 2.81-2.81c.8-.78.8-2.07 0-2.86zM5.41 20L4 18.59l7.72-7.72 1.47 1.35L5.41 20z\"/>\n",
              "  </svg>\n",
              "      </button>\n",
              "      \n",
              "  <style>\n",
              "    .colab-df-container {\n",
              "      display:flex;\n",
              "      flex-wrap:wrap;\n",
              "      gap: 12px;\n",
              "    }\n",
              "\n",
              "    .colab-df-convert {\n",
              "      background-color: #E8F0FE;\n",
              "      border: none;\n",
              "      border-radius: 50%;\n",
              "      cursor: pointer;\n",
              "      display: none;\n",
              "      fill: #1967D2;\n",
              "      height: 32px;\n",
              "      padding: 0 0 0 0;\n",
              "      width: 32px;\n",
              "    }\n",
              "\n",
              "    .colab-df-convert:hover {\n",
              "      background-color: #E2EBFA;\n",
              "      box-shadow: 0px 1px 2px rgba(60, 64, 67, 0.3), 0px 1px 3px 1px rgba(60, 64, 67, 0.15);\n",
              "      fill: #174EA6;\n",
              "    }\n",
              "\n",
              "    [theme=dark] .colab-df-convert {\n",
              "      background-color: #3B4455;\n",
              "      fill: #D2E3FC;\n",
              "    }\n",
              "\n",
              "    [theme=dark] .colab-df-convert:hover {\n",
              "      background-color: #434B5C;\n",
              "      box-shadow: 0px 1px 3px 1px rgba(0, 0, 0, 0.15);\n",
              "      filter: drop-shadow(0px 1px 2px rgba(0, 0, 0, 0.3));\n",
              "      fill: #FFFFFF;\n",
              "    }\n",
              "  </style>\n",
              "\n",
              "      <script>\n",
              "        const buttonEl =\n",
              "          document.querySelector('#df-1edcd1ac-c0a4-4ceb-a553-2cabb62f6800 button.colab-df-convert');\n",
              "        buttonEl.style.display =\n",
              "          google.colab.kernel.accessAllowed ? 'block' : 'none';\n",
              "\n",
              "        async function convertToInteractive(key) {\n",
              "          const element = document.querySelector('#df-1edcd1ac-c0a4-4ceb-a553-2cabb62f6800');\n",
              "          const dataTable =\n",
              "            await google.colab.kernel.invokeFunction('convertToInteractive',\n",
              "                                                     [key], {});\n",
              "          if (!dataTable) return;\n",
              "\n",
              "          const docLinkHtml = 'Like what you see? Visit the ' +\n",
              "            '<a target=\"_blank\" href=https://colab.research.google.com/notebooks/data_table.ipynb>data table notebook</a>'\n",
              "            + ' to learn more about interactive tables.';\n",
              "          element.innerHTML = '';\n",
              "          dataTable['output_type'] = 'display_data';\n",
              "          await google.colab.output.renderOutput(dataTable, element);\n",
              "          const docLink = document.createElement('div');\n",
              "          docLink.innerHTML = docLinkHtml;\n",
              "          element.appendChild(docLink);\n",
              "        }\n",
              "      </script>\n",
              "    </div>\n",
              "  </div>\n",
              "  "
            ]
          },
          "metadata": {},
          "execution_count": 10
        }
      ]
    },
    {
      "cell_type": "markdown",
      "source": [
        "We can see that the describe() function excludes the character columns and gives summary statistics of numeric columns only.\n",
        "\n",
        "Summary statistics of character columns\n",
        "The describe() function with an argument named include along with value object(include='object') gives the summary statistics of the character columns."
      ],
      "metadata": {
        "id": "4mLKo52vKeHp"
      }
    },
    {
      "cell_type": "code",
      "source": [
        "df.describe(include=['object'])"
      ],
      "metadata": {
        "colab": {
          "base_uri": "https://localhost:8080/",
          "height": 175
        },
        "id": "jnCkgSrDKgnK",
        "outputId": "254fd148-a6ee-43ea-e5f9-67afa2c2c5ee"
      },
      "execution_count": 11,
      "outputs": [
        {
          "output_type": "execute_result",
          "data": {
            "text/plain": [
              "           OMajor\n",
              "count        2631\n",
              "unique       2595\n",
              "top     9/17/2014\n",
              "freq            3"
            ],
            "text/html": [
              "\n",
              "  <div id=\"df-97241621-2120-4d0a-9095-0967127eb1d0\">\n",
              "    <div class=\"colab-df-container\">\n",
              "      <div>\n",
              "<style scoped>\n",
              "    .dataframe tbody tr th:only-of-type {\n",
              "        vertical-align: middle;\n",
              "    }\n",
              "\n",
              "    .dataframe tbody tr th {\n",
              "        vertical-align: top;\n",
              "    }\n",
              "\n",
              "    .dataframe thead th {\n",
              "        text-align: right;\n",
              "    }\n",
              "</style>\n",
              "<table border=\"1\" class=\"dataframe\">\n",
              "  <thead>\n",
              "    <tr style=\"text-align: right;\">\n",
              "      <th></th>\n",
              "      <th>OMajor</th>\n",
              "    </tr>\n",
              "  </thead>\n",
              "  <tbody>\n",
              "    <tr>\n",
              "      <th>count</th>\n",
              "      <td>2631</td>\n",
              "    </tr>\n",
              "    <tr>\n",
              "      <th>unique</th>\n",
              "      <td>2595</td>\n",
              "    </tr>\n",
              "    <tr>\n",
              "      <th>top</th>\n",
              "      <td>9/17/2014</td>\n",
              "    </tr>\n",
              "    <tr>\n",
              "      <th>freq</th>\n",
              "      <td>3</td>\n",
              "    </tr>\n",
              "  </tbody>\n",
              "</table>\n",
              "</div>\n",
              "      <button class=\"colab-df-convert\" onclick=\"convertToInteractive('df-97241621-2120-4d0a-9095-0967127eb1d0')\"\n",
              "              title=\"Convert this dataframe to an interactive table.\"\n",
              "              style=\"display:none;\">\n",
              "        \n",
              "  <svg xmlns=\"http://www.w3.org/2000/svg\" height=\"24px\"viewBox=\"0 0 24 24\"\n",
              "       width=\"24px\">\n",
              "    <path d=\"M0 0h24v24H0V0z\" fill=\"none\"/>\n",
              "    <path d=\"M18.56 5.44l.94 2.06.94-2.06 2.06-.94-2.06-.94-.94-2.06-.94 2.06-2.06.94zm-11 1L8.5 8.5l.94-2.06 2.06-.94-2.06-.94L8.5 2.5l-.94 2.06-2.06.94zm10 10l.94 2.06.94-2.06 2.06-.94-2.06-.94-.94-2.06-.94 2.06-2.06.94z\"/><path d=\"M17.41 7.96l-1.37-1.37c-.4-.4-.92-.59-1.43-.59-.52 0-1.04.2-1.43.59L10.3 9.45l-7.72 7.72c-.78.78-.78 2.05 0 2.83L4 21.41c.39.39.9.59 1.41.59.51 0 1.02-.2 1.41-.59l7.78-7.78 2.81-2.81c.8-.78.8-2.07 0-2.86zM5.41 20L4 18.59l7.72-7.72 1.47 1.35L5.41 20z\"/>\n",
              "  </svg>\n",
              "      </button>\n",
              "      \n",
              "  <style>\n",
              "    .colab-df-container {\n",
              "      display:flex;\n",
              "      flex-wrap:wrap;\n",
              "      gap: 12px;\n",
              "    }\n",
              "\n",
              "    .colab-df-convert {\n",
              "      background-color: #E8F0FE;\n",
              "      border: none;\n",
              "      border-radius: 50%;\n",
              "      cursor: pointer;\n",
              "      display: none;\n",
              "      fill: #1967D2;\n",
              "      height: 32px;\n",
              "      padding: 0 0 0 0;\n",
              "      width: 32px;\n",
              "    }\n",
              "\n",
              "    .colab-df-convert:hover {\n",
              "      background-color: #E2EBFA;\n",
              "      box-shadow: 0px 1px 2px rgba(60, 64, 67, 0.3), 0px 1px 3px 1px rgba(60, 64, 67, 0.15);\n",
              "      fill: #174EA6;\n",
              "    }\n",
              "\n",
              "    [theme=dark] .colab-df-convert {\n",
              "      background-color: #3B4455;\n",
              "      fill: #D2E3FC;\n",
              "    }\n",
              "\n",
              "    [theme=dark] .colab-df-convert:hover {\n",
              "      background-color: #434B5C;\n",
              "      box-shadow: 0px 1px 3px 1px rgba(0, 0, 0, 0.15);\n",
              "      filter: drop-shadow(0px 1px 2px rgba(0, 0, 0, 0.3));\n",
              "      fill: #FFFFFF;\n",
              "    }\n",
              "  </style>\n",
              "\n",
              "      <script>\n",
              "        const buttonEl =\n",
              "          document.querySelector('#df-97241621-2120-4d0a-9095-0967127eb1d0 button.colab-df-convert');\n",
              "        buttonEl.style.display =\n",
              "          google.colab.kernel.accessAllowed ? 'block' : 'none';\n",
              "\n",
              "        async function convertToInteractive(key) {\n",
              "          const element = document.querySelector('#df-97241621-2120-4d0a-9095-0967127eb1d0');\n",
              "          const dataTable =\n",
              "            await google.colab.kernel.invokeFunction('convertToInteractive',\n",
              "                                                     [key], {});\n",
              "          if (!dataTable) return;\n",
              "\n",
              "          const docLinkHtml = 'Like what you see? Visit the ' +\n",
              "            '<a target=\"_blank\" href=https://colab.research.google.com/notebooks/data_table.ipynb>data table notebook</a>'\n",
              "            + ' to learn more about interactive tables.';\n",
              "          element.innerHTML = '';\n",
              "          dataTable['output_type'] = 'display_data';\n",
              "          await google.colab.output.renderOutput(dataTable, element);\n",
              "          const docLink = document.createElement('div');\n",
              "          docLink.innerHTML = docLinkHtml;\n",
              "          element.appendChild(docLink);\n",
              "        }\n",
              "      </script>\n",
              "    </div>\n",
              "  </div>\n",
              "  "
            ]
          },
          "metadata": {},
          "execution_count": 11
        }
      ]
    },
    {
      "cell_type": "markdown",
      "source": [
        "Summary statistics of all the columns\n",
        "The describe() function with include='all' gives the summary statistics of all the columns.\n",
        "\n",
        "We need to add a variable named include='all' to get the summary statistics or descriptive statistics of both numeric and character columns."
      ],
      "metadata": {
        "id": "V-lxjCI7KrC6"
      }
    },
    {
      "cell_type": "code",
      "source": [
        "df.describe(include='all')"
      ],
      "metadata": {
        "colab": {
          "base_uri": "https://localhost:8080/",
          "height": 458
        },
        "id": "QJ50bsq_Kuzd",
        "outputId": "71f972bb-b5df-488f-c462-f5c7fb1ac763"
      },
      "execution_count": 12,
      "outputs": [
        {
          "output_type": "execute_result",
          "data": {
            "text/plain": [
              "                  ID         OpeBal    RediscBills    SlFacility  \\\n",
              "count   2.631000e+03    2631.000000    2631.000000  2.631000e+03   \n",
              "unique           NaN            NaN            NaN           NaN   \n",
              "top              NaN            NaN            NaN           NaN   \n",
              "freq             NaN            NaN            NaN           NaN   \n",
              "mean    2.185551e+05     157.329358   71421.335308  9.530615e+04   \n",
              "std     1.860278e+05    3439.031192   97054.736216  2.998967e+05   \n",
              "min    -1.744919e+04       0.000000       0.000000  0.000000e+00   \n",
              "25%     9.088045e+04       0.000000    3461.995000  1.500000e+04   \n",
              "50%     1.569083e+05       0.000000   30273.660000  4.140000e+04   \n",
              "75%     2.835219e+05       0.000000  105547.500000  1.202850e+05   \n",
              "max     1.404600e+06  127618.470000  955275.400000  1.409700e+07   \n",
              "\n",
              "           SdFacility           Repo       RevRepo       OmoSales  \\\n",
              "count     2631.000000    2631.000000  2.631000e+03    2631.000000   \n",
              "unique            NaN            NaN           NaN            NaN   \n",
              "top               NaN            NaN           NaN            NaN   \n",
              "freq              NaN            NaN           NaN            NaN   \n",
              "mean      8909.151824    1409.823044  2.907369e+04   28961.379648   \n",
              "std      30210.118791   10819.917265  7.912196e+04   89166.588688   \n",
              "min          0.000000       0.000000 -7.500000e+02       0.000000   \n",
              "25%          0.000000       0.000000  0.000000e+00       0.000000   \n",
              "50%          0.000000       0.000000  0.000000e+00       0.000000   \n",
              "75%        105.600000       0.000000  1.065085e+03       0.000000   \n",
              "max     441067.000000  280600.000000  1.075849e+06  927745.160000   \n",
              "\n",
              "             OmoRepay        PmSales        PmRepay           Crr  \\\n",
              "count     2631.000000    2631.000000    2631.000000   2631.000000   \n",
              "unique            NaN            NaN            NaN           NaN   \n",
              "top               NaN            NaN            NaN           NaN   \n",
              "freq              NaN            NaN            NaN           NaN   \n",
              "mean     16166.387000   13387.133846     251.464971    748.577218   \n",
              "std      47910.317708   48767.521680    7230.316795   5787.155404   \n",
              "min          0.000000       0.000000  -74478.990000      0.000000   \n",
              "25%          0.000000       0.000000       0.000000      0.000000   \n",
              "50%          0.000000       0.000000       0.000000      0.000000   \n",
              "75%          0.000000       0.000000       0.000000      0.000000   \n",
              "max     325800.000000  807933.790000  242751.130000  89612.600000   \n",
              "\n",
              "              NetWdas    StatAlloc  JvCash        NetClr       NdicPrem  \\\n",
              "count     2631.000000   2631.00000  2631.0   2631.000000    2631.000000   \n",
              "unique            NaN          NaN     NaN           NaN            NaN   \n",
              "top               NaN          NaN     NaN           NaN            NaN   \n",
              "freq              NaN          NaN     NaN           NaN            NaN   \n",
              "mean      3859.790506    170.83629     0.0     18.057773     532.761752   \n",
              "std      31854.680137   3223.98800     0.0    926.242291    8600.253553   \n",
              "min          0.000000      0.00000     0.0      0.000000       0.000000   \n",
              "25%          0.000000      0.00000     0.0      0.000000       0.000000   \n",
              "50%          0.000000      0.00000     0.0      0.000000       0.000000   \n",
              "75%          0.000000      0.00000     0.0      0.000000       0.000000   \n",
              "max     376418.660000  83091.20000     0.0  47510.000000  336204.660000   \n",
              "\n",
              "           OMajor  RecDate  \n",
              "count        2631      0.0  \n",
              "unique       2595      NaN  \n",
              "top     9/17/2014      NaN  \n",
              "freq            3      NaN  \n",
              "mean          NaN      NaN  \n",
              "std           NaN      NaN  \n",
              "min           NaN      NaN  \n",
              "25%           NaN      NaN  \n",
              "50%           NaN      NaN  \n",
              "75%           NaN      NaN  \n",
              "max           NaN      NaN  "
            ],
            "text/html": [
              "\n",
              "  <div id=\"df-f743c1e3-034d-4dcf-8c4b-5ebe0fe494e4\">\n",
              "    <div class=\"colab-df-container\">\n",
              "      <div>\n",
              "<style scoped>\n",
              "    .dataframe tbody tr th:only-of-type {\n",
              "        vertical-align: middle;\n",
              "    }\n",
              "\n",
              "    .dataframe tbody tr th {\n",
              "        vertical-align: top;\n",
              "    }\n",
              "\n",
              "    .dataframe thead th {\n",
              "        text-align: right;\n",
              "    }\n",
              "</style>\n",
              "<table border=\"1\" class=\"dataframe\">\n",
              "  <thead>\n",
              "    <tr style=\"text-align: right;\">\n",
              "      <th></th>\n",
              "      <th>ID</th>\n",
              "      <th>OpeBal</th>\n",
              "      <th>RediscBills</th>\n",
              "      <th>SlFacility</th>\n",
              "      <th>SdFacility</th>\n",
              "      <th>Repo</th>\n",
              "      <th>RevRepo</th>\n",
              "      <th>OmoSales</th>\n",
              "      <th>OmoRepay</th>\n",
              "      <th>PmSales</th>\n",
              "      <th>PmRepay</th>\n",
              "      <th>Crr</th>\n",
              "      <th>NetWdas</th>\n",
              "      <th>StatAlloc</th>\n",
              "      <th>JvCash</th>\n",
              "      <th>NetClr</th>\n",
              "      <th>NdicPrem</th>\n",
              "      <th>OMajor</th>\n",
              "      <th>RecDate</th>\n",
              "    </tr>\n",
              "  </thead>\n",
              "  <tbody>\n",
              "    <tr>\n",
              "      <th>count</th>\n",
              "      <td>2.631000e+03</td>\n",
              "      <td>2631.000000</td>\n",
              "      <td>2631.000000</td>\n",
              "      <td>2.631000e+03</td>\n",
              "      <td>2631.000000</td>\n",
              "      <td>2631.000000</td>\n",
              "      <td>2.631000e+03</td>\n",
              "      <td>2631.000000</td>\n",
              "      <td>2631.000000</td>\n",
              "      <td>2631.000000</td>\n",
              "      <td>2631.000000</td>\n",
              "      <td>2631.000000</td>\n",
              "      <td>2631.000000</td>\n",
              "      <td>2631.00000</td>\n",
              "      <td>2631.0</td>\n",
              "      <td>2631.000000</td>\n",
              "      <td>2631.000000</td>\n",
              "      <td>2631</td>\n",
              "      <td>0.0</td>\n",
              "    </tr>\n",
              "    <tr>\n",
              "      <th>unique</th>\n",
              "      <td>NaN</td>\n",
              "      <td>NaN</td>\n",
              "      <td>NaN</td>\n",
              "      <td>NaN</td>\n",
              "      <td>NaN</td>\n",
              "      <td>NaN</td>\n",
              "      <td>NaN</td>\n",
              "      <td>NaN</td>\n",
              "      <td>NaN</td>\n",
              "      <td>NaN</td>\n",
              "      <td>NaN</td>\n",
              "      <td>NaN</td>\n",
              "      <td>NaN</td>\n",
              "      <td>NaN</td>\n",
              "      <td>NaN</td>\n",
              "      <td>NaN</td>\n",
              "      <td>NaN</td>\n",
              "      <td>2595</td>\n",
              "      <td>NaN</td>\n",
              "    </tr>\n",
              "    <tr>\n",
              "      <th>top</th>\n",
              "      <td>NaN</td>\n",
              "      <td>NaN</td>\n",
              "      <td>NaN</td>\n",
              "      <td>NaN</td>\n",
              "      <td>NaN</td>\n",
              "      <td>NaN</td>\n",
              "      <td>NaN</td>\n",
              "      <td>NaN</td>\n",
              "      <td>NaN</td>\n",
              "      <td>NaN</td>\n",
              "      <td>NaN</td>\n",
              "      <td>NaN</td>\n",
              "      <td>NaN</td>\n",
              "      <td>NaN</td>\n",
              "      <td>NaN</td>\n",
              "      <td>NaN</td>\n",
              "      <td>NaN</td>\n",
              "      <td>9/17/2014</td>\n",
              "      <td>NaN</td>\n",
              "    </tr>\n",
              "    <tr>\n",
              "      <th>freq</th>\n",
              "      <td>NaN</td>\n",
              "      <td>NaN</td>\n",
              "      <td>NaN</td>\n",
              "      <td>NaN</td>\n",
              "      <td>NaN</td>\n",
              "      <td>NaN</td>\n",
              "      <td>NaN</td>\n",
              "      <td>NaN</td>\n",
              "      <td>NaN</td>\n",
              "      <td>NaN</td>\n",
              "      <td>NaN</td>\n",
              "      <td>NaN</td>\n",
              "      <td>NaN</td>\n",
              "      <td>NaN</td>\n",
              "      <td>NaN</td>\n",
              "      <td>NaN</td>\n",
              "      <td>NaN</td>\n",
              "      <td>3</td>\n",
              "      <td>NaN</td>\n",
              "    </tr>\n",
              "    <tr>\n",
              "      <th>mean</th>\n",
              "      <td>2.185551e+05</td>\n",
              "      <td>157.329358</td>\n",
              "      <td>71421.335308</td>\n",
              "      <td>9.530615e+04</td>\n",
              "      <td>8909.151824</td>\n",
              "      <td>1409.823044</td>\n",
              "      <td>2.907369e+04</td>\n",
              "      <td>28961.379648</td>\n",
              "      <td>16166.387000</td>\n",
              "      <td>13387.133846</td>\n",
              "      <td>251.464971</td>\n",
              "      <td>748.577218</td>\n",
              "      <td>3859.790506</td>\n",
              "      <td>170.83629</td>\n",
              "      <td>0.0</td>\n",
              "      <td>18.057773</td>\n",
              "      <td>532.761752</td>\n",
              "      <td>NaN</td>\n",
              "      <td>NaN</td>\n",
              "    </tr>\n",
              "    <tr>\n",
              "      <th>std</th>\n",
              "      <td>1.860278e+05</td>\n",
              "      <td>3439.031192</td>\n",
              "      <td>97054.736216</td>\n",
              "      <td>2.998967e+05</td>\n",
              "      <td>30210.118791</td>\n",
              "      <td>10819.917265</td>\n",
              "      <td>7.912196e+04</td>\n",
              "      <td>89166.588688</td>\n",
              "      <td>47910.317708</td>\n",
              "      <td>48767.521680</td>\n",
              "      <td>7230.316795</td>\n",
              "      <td>5787.155404</td>\n",
              "      <td>31854.680137</td>\n",
              "      <td>3223.98800</td>\n",
              "      <td>0.0</td>\n",
              "      <td>926.242291</td>\n",
              "      <td>8600.253553</td>\n",
              "      <td>NaN</td>\n",
              "      <td>NaN</td>\n",
              "    </tr>\n",
              "    <tr>\n",
              "      <th>min</th>\n",
              "      <td>-1.744919e+04</td>\n",
              "      <td>0.000000</td>\n",
              "      <td>0.000000</td>\n",
              "      <td>0.000000e+00</td>\n",
              "      <td>0.000000</td>\n",
              "      <td>0.000000</td>\n",
              "      <td>-7.500000e+02</td>\n",
              "      <td>0.000000</td>\n",
              "      <td>0.000000</td>\n",
              "      <td>0.000000</td>\n",
              "      <td>-74478.990000</td>\n",
              "      <td>0.000000</td>\n",
              "      <td>0.000000</td>\n",
              "      <td>0.00000</td>\n",
              "      <td>0.0</td>\n",
              "      <td>0.000000</td>\n",
              "      <td>0.000000</td>\n",
              "      <td>NaN</td>\n",
              "      <td>NaN</td>\n",
              "    </tr>\n",
              "    <tr>\n",
              "      <th>25%</th>\n",
              "      <td>9.088045e+04</td>\n",
              "      <td>0.000000</td>\n",
              "      <td>3461.995000</td>\n",
              "      <td>1.500000e+04</td>\n",
              "      <td>0.000000</td>\n",
              "      <td>0.000000</td>\n",
              "      <td>0.000000e+00</td>\n",
              "      <td>0.000000</td>\n",
              "      <td>0.000000</td>\n",
              "      <td>0.000000</td>\n",
              "      <td>0.000000</td>\n",
              "      <td>0.000000</td>\n",
              "      <td>0.000000</td>\n",
              "      <td>0.00000</td>\n",
              "      <td>0.0</td>\n",
              "      <td>0.000000</td>\n",
              "      <td>0.000000</td>\n",
              "      <td>NaN</td>\n",
              "      <td>NaN</td>\n",
              "    </tr>\n",
              "    <tr>\n",
              "      <th>50%</th>\n",
              "      <td>1.569083e+05</td>\n",
              "      <td>0.000000</td>\n",
              "      <td>30273.660000</td>\n",
              "      <td>4.140000e+04</td>\n",
              "      <td>0.000000</td>\n",
              "      <td>0.000000</td>\n",
              "      <td>0.000000e+00</td>\n",
              "      <td>0.000000</td>\n",
              "      <td>0.000000</td>\n",
              "      <td>0.000000</td>\n",
              "      <td>0.000000</td>\n",
              "      <td>0.000000</td>\n",
              "      <td>0.000000</td>\n",
              "      <td>0.00000</td>\n",
              "      <td>0.0</td>\n",
              "      <td>0.000000</td>\n",
              "      <td>0.000000</td>\n",
              "      <td>NaN</td>\n",
              "      <td>NaN</td>\n",
              "    </tr>\n",
              "    <tr>\n",
              "      <th>75%</th>\n",
              "      <td>2.835219e+05</td>\n",
              "      <td>0.000000</td>\n",
              "      <td>105547.500000</td>\n",
              "      <td>1.202850e+05</td>\n",
              "      <td>105.600000</td>\n",
              "      <td>0.000000</td>\n",
              "      <td>1.065085e+03</td>\n",
              "      <td>0.000000</td>\n",
              "      <td>0.000000</td>\n",
              "      <td>0.000000</td>\n",
              "      <td>0.000000</td>\n",
              "      <td>0.000000</td>\n",
              "      <td>0.000000</td>\n",
              "      <td>0.00000</td>\n",
              "      <td>0.0</td>\n",
              "      <td>0.000000</td>\n",
              "      <td>0.000000</td>\n",
              "      <td>NaN</td>\n",
              "      <td>NaN</td>\n",
              "    </tr>\n",
              "    <tr>\n",
              "      <th>max</th>\n",
              "      <td>1.404600e+06</td>\n",
              "      <td>127618.470000</td>\n",
              "      <td>955275.400000</td>\n",
              "      <td>1.409700e+07</td>\n",
              "      <td>441067.000000</td>\n",
              "      <td>280600.000000</td>\n",
              "      <td>1.075849e+06</td>\n",
              "      <td>927745.160000</td>\n",
              "      <td>325800.000000</td>\n",
              "      <td>807933.790000</td>\n",
              "      <td>242751.130000</td>\n",
              "      <td>89612.600000</td>\n",
              "      <td>376418.660000</td>\n",
              "      <td>83091.20000</td>\n",
              "      <td>0.0</td>\n",
              "      <td>47510.000000</td>\n",
              "      <td>336204.660000</td>\n",
              "      <td>NaN</td>\n",
              "      <td>NaN</td>\n",
              "    </tr>\n",
              "  </tbody>\n",
              "</table>\n",
              "</div>\n",
              "      <button class=\"colab-df-convert\" onclick=\"convertToInteractive('df-f743c1e3-034d-4dcf-8c4b-5ebe0fe494e4')\"\n",
              "              title=\"Convert this dataframe to an interactive table.\"\n",
              "              style=\"display:none;\">\n",
              "        \n",
              "  <svg xmlns=\"http://www.w3.org/2000/svg\" height=\"24px\"viewBox=\"0 0 24 24\"\n",
              "       width=\"24px\">\n",
              "    <path d=\"M0 0h24v24H0V0z\" fill=\"none\"/>\n",
              "    <path d=\"M18.56 5.44l.94 2.06.94-2.06 2.06-.94-2.06-.94-.94-2.06-.94 2.06-2.06.94zm-11 1L8.5 8.5l.94-2.06 2.06-.94-2.06-.94L8.5 2.5l-.94 2.06-2.06.94zm10 10l.94 2.06.94-2.06 2.06-.94-2.06-.94-.94-2.06-.94 2.06-2.06.94z\"/><path d=\"M17.41 7.96l-1.37-1.37c-.4-.4-.92-.59-1.43-.59-.52 0-1.04.2-1.43.59L10.3 9.45l-7.72 7.72c-.78.78-.78 2.05 0 2.83L4 21.41c.39.39.9.59 1.41.59.51 0 1.02-.2 1.41-.59l7.78-7.78 2.81-2.81c.8-.78.8-2.07 0-2.86zM5.41 20L4 18.59l7.72-7.72 1.47 1.35L5.41 20z\"/>\n",
              "  </svg>\n",
              "      </button>\n",
              "      \n",
              "  <style>\n",
              "    .colab-df-container {\n",
              "      display:flex;\n",
              "      flex-wrap:wrap;\n",
              "      gap: 12px;\n",
              "    }\n",
              "\n",
              "    .colab-df-convert {\n",
              "      background-color: #E8F0FE;\n",
              "      border: none;\n",
              "      border-radius: 50%;\n",
              "      cursor: pointer;\n",
              "      display: none;\n",
              "      fill: #1967D2;\n",
              "      height: 32px;\n",
              "      padding: 0 0 0 0;\n",
              "      width: 32px;\n",
              "    }\n",
              "\n",
              "    .colab-df-convert:hover {\n",
              "      background-color: #E2EBFA;\n",
              "      box-shadow: 0px 1px 2px rgba(60, 64, 67, 0.3), 0px 1px 3px 1px rgba(60, 64, 67, 0.15);\n",
              "      fill: #174EA6;\n",
              "    }\n",
              "\n",
              "    [theme=dark] .colab-df-convert {\n",
              "      background-color: #3B4455;\n",
              "      fill: #D2E3FC;\n",
              "    }\n",
              "\n",
              "    [theme=dark] .colab-df-convert:hover {\n",
              "      background-color: #434B5C;\n",
              "      box-shadow: 0px 1px 3px 1px rgba(0, 0, 0, 0.15);\n",
              "      filter: drop-shadow(0px 1px 2px rgba(0, 0, 0, 0.3));\n",
              "      fill: #FFFFFF;\n",
              "    }\n",
              "  </style>\n",
              "\n",
              "      <script>\n",
              "        const buttonEl =\n",
              "          document.querySelector('#df-f743c1e3-034d-4dcf-8c4b-5ebe0fe494e4 button.colab-df-convert');\n",
              "        buttonEl.style.display =\n",
              "          google.colab.kernel.accessAllowed ? 'block' : 'none';\n",
              "\n",
              "        async function convertToInteractive(key) {\n",
              "          const element = document.querySelector('#df-f743c1e3-034d-4dcf-8c4b-5ebe0fe494e4');\n",
              "          const dataTable =\n",
              "            await google.colab.kernel.invokeFunction('convertToInteractive',\n",
              "                                                     [key], {});\n",
              "          if (!dataTable) return;\n",
              "\n",
              "          const docLinkHtml = 'Like what you see? Visit the ' +\n",
              "            '<a target=\"_blank\" href=https://colab.research.google.com/notebooks/data_table.ipynb>data table notebook</a>'\n",
              "            + ' to learn more about interactive tables.';\n",
              "          element.innerHTML = '';\n",
              "          dataTable['output_type'] = 'display_data';\n",
              "          await google.colab.output.renderOutput(dataTable, element);\n",
              "          const docLink = document.createElement('div');\n",
              "          docLink.innerHTML = docLinkHtml;\n",
              "          element.appendChild(docLink);\n",
              "        }\n",
              "      </script>\n",
              "    </div>\n",
              "  </div>\n",
              "  "
            ]
          },
          "metadata": {},
          "execution_count": 12
        }
      ]
    },
    {
      "cell_type": "markdown",
      "source": [
        "#### 9. Computation of measures of central tendency\n",
        ". In this section, I will compute the measures of central tendency - mean, median and mode.\n",
        "\n",
        "\n",
        ". These statistics give us a approximate value of the middle of a numeric variable.\n",
        "\n",
        ". I will use the StatAlloc  variable for calculations.\n",
        "\n",
        "#### Mean"
      ],
      "metadata": {
        "id": "HuYC6Zd4LBrb"
      }
    },
    {
      "cell_type": "code",
      "source": [
        "mean = df['StatAlloc'].mean()\n",
        "\n",
        "print(mean)"
      ],
      "metadata": {
        "colab": {
          "base_uri": "https://localhost:8080/"
        },
        "id": "icKLM2tlLSBG",
        "outputId": "99815d8d-9527-4705-d535-0c32e4e1b6f9"
      },
      "execution_count": 16,
      "outputs": [
        {
          "output_type": "stream",
          "name": "stdout",
          "text": [
            "170.83629038388446\n"
          ]
        }
      ]
    },
    {
      "cell_type": "markdown",
      "source": [
        "#### Median\n"
      ],
      "metadata": {
        "id": "HDkUzk18Lz7A"
      }
    },
    {
      "cell_type": "code",
      "source": [
        "\n",
        "median = df['StatAlloc'].median()\n",
        "\n",
        "print(median)"
      ],
      "metadata": {
        "colab": {
          "base_uri": "https://localhost:8080/"
        },
        "id": "HobtgGzmL47Z",
        "outputId": "01f16ab3-8c09-4909-c97c-edf7ced7b7d8"
      },
      "execution_count": 17,
      "outputs": [
        {
          "output_type": "stream",
          "name": "stdout",
          "text": [
            "0.0\n"
          ]
        }
      ]
    },
    {
      "cell_type": "markdown",
      "source": [
        "#### Mode"
      ],
      "metadata": {
        "id": "8iC0wfZ7MHFo"
      }
    },
    {
      "cell_type": "code",
      "source": [
        "mode = df['StatAlloc'].mode()\n",
        "\n",
        "print(mode)"
      ],
      "metadata": {
        "colab": {
          "base_uri": "https://localhost:8080/"
        },
        "id": "WQS36xEHMJwO",
        "outputId": "3f32a500-9753-4727-872f-e14bfe011245"
      },
      "execution_count": 18,
      "outputs": [
        {
          "output_type": "stream",
          "name": "stdout",
          "text": [
            "0    0.0\n",
            "Name: StatAlloc, dtype: float64\n"
          ]
        }
      ]
    },
    {
      "cell_type": "markdown",
      "source": [
        "Observation\n",
        "We can see that mean > median > mode. So, the distribution of StatAlloc is positively skewed. I will plot its distribution to confirm the same."
      ],
      "metadata": {
        "id": "YroAy8dqMYUn"
      }
    },
    {
      "cell_type": "markdown",
      "source": [
        "#### Plot the distribution"
      ],
      "metadata": {
        "id": "y5YW2f1JNACX"
      }
    },
    {
      "cell_type": "code",
      "source": [
        "data = df['StatAlloc']\n",
        "\n",
        "sns.distplot(data, bins=10, hist=True, kde=True, label = 'StatAlloc')"
      ],
      "metadata": {
        "colab": {
          "base_uri": "https://localhost:8080/",
          "height": 662
        },
        "id": "9qYsfqxQNDml",
        "outputId": "15e5b04f-0729-4884-b850-f639631c51e0"
      },
      "execution_count": 19,
      "outputs": [
        {
          "output_type": "stream",
          "name": "stderr",
          "text": [
            "<ipython-input-19-3b02827caa93>:3: UserWarning: \n",
            "\n",
            "`distplot` is a deprecated function and will be removed in seaborn v0.14.0.\n",
            "\n",
            "Please adapt your code to use either `displot` (a figure-level function with\n",
            "similar flexibility) or `histplot` (an axes-level function for histograms).\n",
            "\n",
            "For a guide to updating your code to use the new functions, please see\n",
            "https://gist.github.com/mwaskom/de44147ed2974457ad6372750bbe5751\n",
            "\n",
            "  sns.distplot(data, bins=10, hist=True, kde=True, label = 'StatAlloc')\n"
          ]
        },
        {
          "output_type": "execute_result",
          "data": {
            "text/plain": [
              "<Axes: xlabel='StatAlloc', ylabel='Density'>"
            ]
          },
          "metadata": {},
          "execution_count": 19
        },
        {
          "output_type": "display_data",
          "data": {
            "text/plain": [
              "<Figure size 640x480 with 1 Axes>"
            ],
            "image/png": "[encoded data removed]"
          },
          "metadata": {}
        }
      ]
    },
    {
      "cell_type": "markdown",
      "source": [
        "The above plot confirms that the StatAlloc is positively skewed.\n",
        "\n",
        "#### 10. Computation of measures of dispersion or variability\n",
        "In this section, I will compute the measures of dispersion or variability - minimum and maximum values, range, variance, standard-deviation, IQR.\n",
        "\n",
        "Again, I will use the Revenue (in millions) variable for calculations.\n",
        "\n",
        "#### Minimum value"
      ],
      "metadata": {
        "id": "IpW8dTLSNbs1"
      }
    },
    {
      "cell_type": "code",
      "source": [
        "df['StatAlloc'].min()"
      ],
      "metadata": {
        "colab": {
          "base_uri": "https://localhost:8080/"
        },
        "id": "C-svG9RvNkUX",
        "outputId": "41beca0b-3d7e-4a7a-fd67-ece46d401031"
      },
      "execution_count": 20,
      "outputs": [
        {
          "output_type": "execute_result",
          "data": {
            "text/plain": [
              "0.0"
            ]
          },
          "metadata": {},
          "execution_count": 20
        }
      ]
    },
    {
      "cell_type": "markdown",
      "source": [
        "#### Maximum value"
      ],
      "metadata": {
        "id": "jtod8FlbN7RU"
      }
    },
    {
      "cell_type": "code",
      "source": [
        "df['StatAlloc'].max()"
      ],
      "metadata": {
        "colab": {
          "base_uri": "https://localhost:8080/"
        },
        "id": "7VFAuHimNx-a",
        "outputId": "6530e943-c4dc-418f-b35f-0e2c959a2c25"
      },
      "execution_count": 21,
      "outputs": [
        {
          "output_type": "execute_result",
          "data": {
            "text/plain": [
              "83091.2"
            ]
          },
          "metadata": {},
          "execution_count": 21
        }
      ]
    },
    {
      "cell_type": "markdown",
      "source": [
        "#### Range"
      ],
      "metadata": {
        "id": "q-FzUk0sN9z7"
      }
    },
    {
      "cell_type": "code",
      "source": [
        "df['StatAlloc'].max() - df['StatAlloc'].min()"
      ],
      "metadata": {
        "colab": {
          "base_uri": "https://localhost:8080/"
        },
        "id": "wdc-8-sNOAve",
        "outputId": "a485ece7-71d4-455a-de7b-b52b9d3bfe05"
      },
      "execution_count": 22,
      "outputs": [
        {
          "output_type": "execute_result",
          "data": {
            "text/plain": [
              "83091.2"
            ]
          },
          "metadata": {},
          "execution_count": 22
        }
      ]
    },
    {
      "cell_type": "markdown",
      "source": [
        "#### Variance"
      ],
      "metadata": {
        "id": "bn3SS7JTOQaf"
      }
    },
    {
      "cell_type": "code",
      "source": [
        "df['StatAlloc'].var()"
      ],
      "metadata": {
        "colab": {
          "base_uri": "https://localhost:8080/"
        },
        "id": "yX6jMmvSOSTL",
        "outputId": "a3fb560a-e914-4886-aee8-6777342a90ef"
      },
      "execution_count": 23,
      "outputs": [
        {
          "output_type": "execute_result",
          "data": {
            "text/plain": [
              "10394098.625463644"
            ]
          },
          "metadata": {},
          "execution_count": 23
        }
      ]
    },
    {
      "cell_type": "markdown",
      "source": [
        "#### Median (Q2 or 50th percentile)"
      ],
      "metadata": {
        "id": "JGjUqDfnOb5U"
      }
    },
    {
      "cell_type": "code",
      "source": [
        "Q2 = df['StatAlloc'].quantile(0.5)\n",
        "\n",
        "Q2"
      ],
      "metadata": {
        "colab": {
          "base_uri": "https://localhost:8080/"
        },
        "id": "x0DSYLNLOd3N",
        "outputId": "32134dde-c0f3-470d-bb02-da004a0f8520"
      },
      "execution_count": 24,
      "outputs": [
        {
          "output_type": "execute_result",
          "data": {
            "text/plain": [
              "0.0"
            ]
          },
          "metadata": {},
          "execution_count": 24
        }
      ]
    },
    {
      "cell_type": "markdown",
      "source": [
        "#### Q3 or 75th percentile"
      ],
      "metadata": {
        "id": "Jj_Fk1O4OotY"
      }
    },
    {
      "cell_type": "code",
      "source": [
        "Q3 = df['StatAlloc'].quantile(0.75)\n",
        "Q3"
      ],
      "metadata": {
        "colab": {
          "base_uri": "https://localhost:8080/"
        },
        "id": "VoKiYW_ZOqqr",
        "outputId": "74110c96-0a0f-4fee-bc70-323cb4159a73"
      },
      "execution_count": 25,
      "outputs": [
        {
          "output_type": "execute_result",
          "data": {
            "text/plain": [
              "0.0"
            ]
          },
          "metadata": {},
          "execution_count": 25
        }
      ]
    },
    {
      "cell_type": "markdown",
      "source": [
        "#### Q1 or 25th percentile"
      ],
      "metadata": {
        "id": "XT7Qp62rPG-F"
      }
    },
    {
      "cell_type": "code",
      "source": [
        "Q1 = df['StatAlloc'].quantile(0.25)\n",
        "\n",
        "Q1"
      ],
      "metadata": {
        "colab": {
          "base_uri": "https://localhost:8080/"
        },
        "id": "O7hbGUiIPJMA",
        "outputId": "dd7ca64d-4a54-49a7-d96b-a2dd989db59c"
      },
      "execution_count": 26,
      "outputs": [
        {
          "output_type": "execute_result",
          "data": {
            "text/plain": [
              "0.0"
            ]
          },
          "metadata": {},
          "execution_count": 26
        }
      ]
    },
    {
      "cell_type": "markdown",
      "source": [
        "#### Interquartile Range"
      ],
      "metadata": {
        "id": "hhVIBqffPTfK"
      }
    },
    {
      "cell_type": "code",
      "source": [
        "IQR = Q3  - Q1\n",
        "\n",
        "IQR"
      ],
      "metadata": {
        "colab": {
          "base_uri": "https://localhost:8080/"
        },
        "id": "NosuNTbKPVjt",
        "outputId": "c8360d2e-1851-4453-98d6-2c949a3cee5e"
      },
      "execution_count": 27,
      "outputs": [
        {
          "output_type": "execute_result",
          "data": {
            "text/plain": [
              "0.0"
            ]
          },
          "metadata": {},
          "execution_count": 27
        }
      ]
    },
    {
      "cell_type": "markdown",
      "source": [
        "#### Draw boxplot"
      ],
      "metadata": {
        "id": "FmGg4Tq2PbWx"
      }
    },
    {
      "cell_type": "code",
      "source": [
        "plt.boxplot(df['StatAlloc'])\n",
        "plt.show()"
      ],
      "metadata": {
        "colab": {
          "base_uri": "https://localhost:8080/",
          "height": 430
        },
        "id": "sUH4L8hAPgZj",
        "outputId": "4309c007-b02c-4e72-a4a8-65cf7b1f2a26"
      },
      "execution_count": 28,
      "outputs": [
        {
          "output_type": "display_data",
          "data": {
            "text/plain": [
              "<Figure size 640x480 with 1 Axes>"
            ],
            "image/png": "[encoded data removed]"
          },
          "metadata": {}
        }
      ]
    },
    {
      "cell_type": "markdown",
      "source": [
        "#### 11. Computation of measures of shape of distribution\n",
        "In this section, I will compute the measures of shape of distribution - skewness and kurtosis.\n",
        "\n",
        "Again, I will use the StatAlloc variable for calculations.\n",
        "\n",
        "#### Skewness"
      ],
      "metadata": {
        "id": "atSCziTCPwSm"
      }
    },
    {
      "cell_type": "code",
      "source": [
        "df['StatAlloc'].skew()"
      ],
      "metadata": {
        "colab": {
          "base_uri": "https://localhost:8080/"
        },
        "id": "l65cjS0mP4iY",
        "outputId": "9e2f2e3d-1f46-455b-d04d-f8806cf9697a"
      },
      "execution_count": 29,
      "outputs": [
        {
          "output_type": "execute_result",
          "data": {
            "text/plain": [
              "20.70282980332423"
            ]
          },
          "metadata": {},
          "execution_count": 29
        }
      ]
    },
    {
      "cell_type": "markdown",
      "source": [
        "Interpretation\n",
        "I find the skewness to be 20.7028 So, it is greater than 1. Hence, we can conclude that the StatAlloc data is highly skewed."
      ],
      "metadata": {
        "id": "YpgYRYFDQDkq"
      }
    },
    {
      "cell_type": "markdown",
      "source": [
        "#### Kurtosis"
      ],
      "metadata": {
        "id": "Y2FDX4wOQUUJ"
      }
    },
    {
      "cell_type": "code",
      "source": [
        "df['StatAlloc'].kurt()"
      ],
      "metadata": {
        "colab": {
          "base_uri": "https://localhost:8080/"
        },
        "id": "JVVeH_2SQWZW",
        "outputId": "412086e0-457b-46c1-8ee7-27e16f563bf2"
      },
      "execution_count": 30,
      "outputs": [
        {
          "output_type": "execute_result",
          "data": {
            "text/plain": [
              "454.61972989446537"
            ]
          },
          "metadata": {},
          "execution_count": 30
        }
      ]
    },
    {
      "cell_type": "markdown",
      "source": [
        "Interpretation\n",
        "I find the kurtosis to be 454.6197. So, it is greater than 3 and so excess kurtosis > 0. Hence, we can conclude that the StatAlloc curve is a leptokurtic curve. As compared to a normal distribution, its central peak is higher and sharper, and its tails are longer and fatter."
      ],
      "metadata": {
        "id": "Z4i9CSLdQgl9"
      }
    },
    {
      "cell_type": "markdown",
      "source": [
        "12. Results and conclusion\n",
        "In this project, I describe the descriptive statistics that are used to summarize a dataset.\n",
        "\n",
        "In particular, I have described the measures of central tendency (mean, median and mode). I have also described the measures of dispersion or variability (variance, standard deviation, coefficient of variation, minimum and maximum values, IQR) and measures of shape (skewness and kurtosis).\n",
        "\n",
        "I have demonstrated how to calculate the summary statistics with describe() function.\n",
        "\n",
        "I have computed the measures of central tendency-mean, median and mode for the StatAlloc variable. I have found mean > median > mode. So, the distribution of StatAlloc is positively skewed. I have plotted its distribution to confirm the same.\n",
        "\n",
        "I have computed the measures of dispersion or variability-range, variance, standard-deviation, median and IQR for the StatAlloc variable.\n",
        "\n",
        "I have also computed the measures of shape-skewness and kurtosis for the Revenue (in millions)variable.\n",
        "\n",
        "I find the skewness to be 20.7028. So, it is greater than 1. Hence, we can conclude that the Revenue (in millions) data is highly skewed.\n",
        "\n",
        "I find the kurtosis to be 454.6197. So, it is greater than 3 and so excess kurtosis > 0.\n",
        " \n",
        " Hence, we can conclude that the StatAlloc curve is a leptokurtic curve. As compared to a normal distribution, its central peak is higher and sharper, and its tails are longer and fatter.\n"
      ],
      "metadata": {
        "id": "3V4JTevDQsOo"
      }
    },
    {
      "cell_type": "code",
      "source": [],
      "metadata": {
        "id": "BBwSna1_Ral8"
      },
      "execution_count": null,
      "outputs": []
    }
  ]
}